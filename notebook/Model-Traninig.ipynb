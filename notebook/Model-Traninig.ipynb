{
  "cells": [
    {
      "cell_type": "markdown",
      "metadata": {},
      "source": [
        "<table align=\"center\" width=100%>\n",
        "    <tr>\n",
        "        <td>\n",
        "            <div align=\"center\">\n",
        "                <font color=\"green\" size=24px>\n",
        "                    <b> DNS-Hackathon-2023-Notebook\n",
        "                    </b>\n",
        "                </font>\n",
        "            </div>\n",
        "        </td>\n",
        "    </tr>\n",
        "</table>\n",
        "\n",
        "<br>\n",
        "\n",
        "\n"
      ]
    },
    {
      "cell_type": "markdown",
      "metadata": {},
      "source": [
        "## 1 Overview\n",
        "\n",
        "This dataset contains consists of 14,000 property listings for training and 6,000 for testing.\n",
        "\n",
        "Each listing is described by seven features:\n",
        "\n",
        "1. ID: A unique identifier for each property. This feature, being an identifier, likely has no predictive power and can be dropped from the modeling process.\n",
        "\n",
        "2. loc (Location): The geographical location of each property. With approximately 12,187 non-null entries, there seem to be missing values that need to be addressed during the data cleaning process. This feature could have significant predictive power as property prices are often highly dependent on location.\n",
        "\n",
        "3. title (Type): This refers to the type of property (e.g., duplex, apartment, etc.). It has around 12,278 non-null entries, indicating potential missing values that need to be filled or handled appropriately. The type of property can affect its price, so this could be an important feature.\n",
        "\n",
        "4. bedroom: The number of bedrooms in the property. This feature has approximately 12,201 non-null entries. Bedrooms can directly affect a property's price, and missing values need to be addressed.\n",
        "\n",
        "5. bathroom: The number of bathrooms in the property. It has around 12,195 non-null entries. The number of bathrooms can also influence the price of a property, and missing values need to be taken care of.\n",
        "\n",
        "6. parking_space: The number of parking spaces available in the property. This feature has about 12,189 non-null entries, indicating potential missing values. Depending on the location and property type, parking spaces could potentially impact the property's price.\n",
        "\n",
        "7. price: This is the target variable that we aim to predict - the price at which the property should be sold. There are no missing values in this feature.\n",
        "\n",
        "![Hackathon steps](../images/Screenshot%202022-08-24%20135305.png)\n",
        "\n",
        "\n"
      ]
    },
    {
      "cell_type": "markdown",
      "metadata": {},
      "source": [
        "### 2 IMPORTING RELEVANT LIBRARIES "
      ]
    },
    {
      "cell_type": "code",
      "execution_count": 1,
      "metadata": {
        "gather": {
          "logged": 1690585157459
        }
      },
      "outputs": [],
      "source": [
        "import numpy as np\n",
        "import pandas as pd\n",
        "import matplotlib as mpl\n",
        "import pandas as pd\n",
        "import numpy as np\n",
        "import matplotlib.pyplot as plt\n",
        "import seaborn as sns\n",
        "from IPython.display import display\n",
        "import warnings\n",
        "#import missingno as msno\n",
        "from pycaret.regression import RegressionExperiment\n",
        "warnings.filterwarnings(\"ignore\")\n",
        "%matplotlib inline"
      ]
    },
    {
      "cell_type": "code",
      "execution_count": 2,
      "metadata": {
        "gather": {
          "logged": 1690585157602
        }
      },
      "outputs": [],
      "source": [
        "# importing dataset for training\n",
        "train = pd.read_csv(\"../data/Housing_dataset_train.csv\")\n",
        "test = pd.read_csv('../data/Housing_dataset_test.csv')\n",
        "Sample_submission=pd.read_csv('../data/Sample_submission.csv')"
      ]
    },
    {
      "cell_type": "code",
      "execution_count": 3,
      "metadata": {
        "gather": {
          "logged": 1690585158697
        }
      },
      "outputs": [
        {
          "name": "stdout",
          "output_type": "stream",
          "text": [
            "categorical values: Index(['loc', 'title'], dtype='object')\n",
            "Numerical values: Index(['ID', 'bedroom', 'bathroom', 'parking_space', 'price'], dtype='object')\n"
          ]
        }
      ],
      "source": [
        "# which features are categorical?\n",
        "cat_col = train.select_dtypes(include=[np.object]).columns\n",
        "# which features are numerical?\n",
        "num_col = train.select_dtypes(include=[np.number]).columns\n",
        "print(\"categorical values:\",cat_col )\n",
        "print(\"Numerical values:\",num_col )"
      ]
    },
    {
      "cell_type": "markdown",
      "metadata": {},
      "source": [
        "- We would need to make 'loc', 'title' more descriptive and remove 'ID'"
      ]
    },
    {
      "cell_type": "code",
      "execution_count": null,
      "metadata": {
        "gather": {
          "logged": 1690585158830
        }
      },
      "outputs": [],
      "source": [
        "# Checking for unique values \n",
        "col=['loc', 'title', 'bedroom', 'bathroom', 'parking_space', 'price']\n",
        "# Remaining columns are having values like 'yes' and 'no'\n",
        "for i in col:\n",
        "    print(i)\n",
        "    print(train[i].unique())\n",
        "    print(train[i].nunique())\n",
        "    print()"
      ]
    },
    {
      "cell_type": "markdown",
      "metadata": {},
      "source": [
        "### 3 DATA PREPROCESSING..."
      ]
    },
    {
      "cell_type": "code",
      "execution_count": 5,
      "metadata": {
        "gather": {
          "logged": 1690585159033
        }
      },
      "outputs": [
        {
          "name": "stdout",
          "output_type": "stream",
          "text": [
            "columns after dropping ID (Train dataset) Index(['loc', 'title', 'bedroom', 'bathroom', 'parking_space', 'price'], dtype='object')\n",
            "columns after dropping ID (Test dataset) Index(['loc', 'title', 'bedroom', 'bathroom', 'parking_space'], dtype='object')\n"
          ]
        }
      ],
      "source": [
        "# droping ID columns from the dataframe\n",
        "train.drop([\"ID\"], 1, inplace = True)\n",
        "test.drop([\"ID\"], 1, inplace = True)\n",
        "print(\"columns after dropping ID (Train dataset)\",train.columns)\n",
        "print(\"columns after dropping ID (Test dataset)\",test.columns)"
      ]
    },
    {
      "cell_type": "code",
      "execution_count": 6,
      "metadata": {
        "gather": {
          "logged": 1690585159168
        }
      },
      "outputs": [
        {
          "name": "stdout",
          "output_type": "stream",
          "text": [
            "train Index(['location', 'type', 'bedroom', 'bathroom', 'parking_space', 'price'], dtype='object')\n",
            "test Index(['location', 'type', 'bedroom', 'bathroom', 'parking_space'], dtype='object')\n"
          ]
        }
      ],
      "source": [
        "# making 'loc' and 'title' columns more descriptive\n",
        "train = train.rename(columns={'loc': 'location', 'title': 'type'})\n",
        "test= test.rename(columns={'loc': 'location', 'title': 'type'})\n",
        "print(\"train\",train.columns)\n",
        "print(\"test\",test.columns)"
      ]
    },
    {
      "cell_type": "code",
      "execution_count": 7,
      "metadata": {
        "gather": {
          "logged": 1690585159323
        }
      },
      "outputs": [
        {
          "data": {
            "text/html": [
              "<div>\n",
              "<style scoped>\n",
              "    .dataframe tbody tr th:only-of-type {\n",
              "        vertical-align: middle;\n",
              "    }\n",
              "\n",
              "    .dataframe tbody tr th {\n",
              "        vertical-align: top;\n",
              "    }\n",
              "\n",
              "    .dataframe thead th {\n",
              "        text-align: right;\n",
              "    }\n",
              "</style>\n",
              "<table border=\"1\" class=\"dataframe\">\n",
              "  <thead>\n",
              "    <tr style=\"text-align: right;\">\n",
              "      <th></th>\n",
              "      <th>location</th>\n",
              "      <th>type</th>\n",
              "      <th>bedroom</th>\n",
              "      <th>bathroom</th>\n",
              "      <th>parking_space</th>\n",
              "      <th>price</th>\n",
              "    </tr>\n",
              "  </thead>\n",
              "  <tbody>\n",
              "    <tr>\n",
              "      <th>0</th>\n",
              "      <td>Katsina</td>\n",
              "      <td>Semi-detached duplex</td>\n",
              "      <td>2.000000</td>\n",
              "      <td>2.0</td>\n",
              "      <td>1.000000</td>\n",
              "      <td>1149999.565</td>\n",
              "    </tr>\n",
              "    <tr>\n",
              "      <th>1</th>\n",
              "      <td>Ondo</td>\n",
              "      <td>Apartment</td>\n",
              "      <td>4.308171</td>\n",
              "      <td>2.0</td>\n",
              "      <td>4.000000</td>\n",
              "      <td>1672416.689</td>\n",
              "    </tr>\n",
              "    <tr>\n",
              "      <th>2</th>\n",
              "      <td>Ekiti</td>\n",
              "      <td>Unknown</td>\n",
              "      <td>7.000000</td>\n",
              "      <td>5.0</td>\n",
              "      <td>3.169825</td>\n",
              "      <td>3364799.814</td>\n",
              "    </tr>\n",
              "    <tr>\n",
              "      <th>3</th>\n",
              "      <td>Anambra</td>\n",
              "      <td>Detached duplex</td>\n",
              "      <td>5.000000</td>\n",
              "      <td>2.0</td>\n",
              "      <td>4.000000</td>\n",
              "      <td>2410306.756</td>\n",
              "    </tr>\n",
              "    <tr>\n",
              "      <th>4</th>\n",
              "      <td>Kogi</td>\n",
              "      <td>Terrace duplex</td>\n",
              "      <td>4.308171</td>\n",
              "      <td>5.0</td>\n",
              "      <td>6.000000</td>\n",
              "      <td>2600700.898</td>\n",
              "    </tr>\n",
              "  </tbody>\n",
              "</table>\n",
              "</div>"
            ],
            "text/plain": [
              "  location                  type   bedroom  bathroom  parking_space  \\\n",
              "0  Katsina  Semi-detached duplex  2.000000       2.0       1.000000   \n",
              "1     Ondo             Apartment  4.308171       2.0       4.000000   \n",
              "2    Ekiti               Unknown  7.000000       5.0       3.169825   \n",
              "3  Anambra       Detached duplex  5.000000       2.0       4.000000   \n",
              "4     Kogi        Terrace duplex  4.308171       5.0       6.000000   \n",
              "\n",
              "         price  \n",
              "0  1149999.565  \n",
              "1  1672416.689  \n",
              "2  3364799.814  \n",
              "3  2410306.756  \n",
              "4  2600700.898  "
            ]
          },
          "execution_count": 7,
          "metadata": {},
          "output_type": "execute_result"
        }
      ],
      "source": [
        "# Using pandas DataFrame `fillna()` function to fill NaN values\n",
        "\n",
        "# Filling categorical variables with 'Unknown'\n",
        "train['location'] = train['location'].fillna('Unknown')\n",
        "train['type'] = train['type'].fillna('Unknown')\n",
        "\n",
        "# Filling numerical variables with mean\n",
        "for column in ['bedroom', 'bathroom', 'parking_space']:\n",
        "    mean_value = train[column].mean()\n",
        "    train[column] = train[column].fillna(mean_value)\n",
        "\n",
        "train.head()"
      ]
    },
    {
      "cell_type": "markdown",
      "metadata": {},
      "source": [
        "### 4 FEATURES ENGINEERING"
      ]
    },
    {
      "cell_type": "code",
      "execution_count": 8,
      "metadata": {},
      "outputs": [],
      "source": [
        "#createing new feature to for geopolitical zone using location\n",
        "geo_states = {\n",
        "    \"North_Central\": [\"Benue\", \"Kogi\", \"Kwara\", \"Nasarawa\", \"Niger\", \"Plateau\"],\n",
        "    \"North_East\": [\"Adamawa\", \"Bauchi\", \"Borno\", \"Gombe\", \"Taraba\", \"Yobe\"],\n",
        "    \"North_West\": [\"Kaduna\", \"Katsina\", \"Kano\", \"Kebbi\", \"Sokoto\", \"Jigawa\", \"Zamfara\"],\n",
        "    \"South_East\": [\"Abia\", \"Anambra\", \"Ebonyi\", \"Enugu\", \"Imo\"],\n",
        "    \"South_South\": [\"Akwa Ibom\", \"Bayelsa\", \"Cross River\", \"Delta\", \"Edo\", \"Rivers\"],\n",
        "    \"South_West\": [\"Ekiti\", \"Lagos\", \"Osun\", \"Ondo\", \"Ogun\", \"Oyo\"]\n",
        "}\n",
        "\n",
        "\n",
        "def add_geo_zone(data, geo_states):\n",
        "    for zone, states in geo_states.items():\n",
        "        data.loc[data['location'].isin(states), 'geo_zone'] = zone\n",
        "    return data\n",
        "\n",
        "\n",
        "train = add_geo_zone(train,geo_states )\n",
        "test = add_geo_zone(test,geo_states)"
      ]
    },
    {
      "cell_type": "markdown",
      "metadata": {},
      "source": [
        "### 5 LEBEL ENCODING"
      ]
    },
    {
      "cell_type": "markdown",
      "metadata": {},
      "source": [
        "# Label Encoding\n",
        "def convert_categorical_to_numerical(data):\n",
        "    cat_features = ['geo_zone']\n",
        "    for cat_feature in cat_features:\n",
        "        data[cat_feature] = data[cat_feature].astype('category').cat.codes\n",
        "    return data\n",
        "\n",
        "train = convert_categorical_to_numerical(train)\n",
        "test = convert_categorical_to_numerical(test)\n"
      ]
    },
    {
      "cell_type": "code",
      "execution_count": 9,
      "metadata": {},
      "outputs": [],
      "source": [
        "\n",
        "train[\"bedroom\"] = train[\"bedroom\"].astype(int)\n",
        "train[\"bathroom\"] = train[\"bathroom\"].astype(int)\n",
        "train[\"parking_space\"] = train[\"parking_space\"].astype(int)\n",
        "\n",
        "test[\"bedroom\"] = test[\"bedroom\"].astype(int)\n",
        "test[\"bathroom\"] = test[\"bathroom\"].astype(int)\n",
        "test[\"parking_space\"] = test[\"parking_space\"].astype(int)"
      ]
    },
    {
      "cell_type": "code",
      "execution_count": 10,
      "metadata": {},
      "outputs": [
        {
          "data": {
            "text/html": [
              "<div>\n",
              "<style scoped>\n",
              "    .dataframe tbody tr th:only-of-type {\n",
              "        vertical-align: middle;\n",
              "    }\n",
              "\n",
              "    .dataframe tbody tr th {\n",
              "        vertical-align: top;\n",
              "    }\n",
              "\n",
              "    .dataframe thead th {\n",
              "        text-align: right;\n",
              "    }\n",
              "</style>\n",
              "<table border=\"1\" class=\"dataframe\">\n",
              "  <thead>\n",
              "    <tr style=\"text-align: right;\">\n",
              "      <th></th>\n",
              "      <th>location</th>\n",
              "      <th>type</th>\n",
              "      <th>bedroom</th>\n",
              "      <th>bathroom</th>\n",
              "      <th>parking_space</th>\n",
              "      <th>price</th>\n",
              "      <th>geo_zone</th>\n",
              "    </tr>\n",
              "  </thead>\n",
              "  <tbody>\n",
              "    <tr>\n",
              "      <th>0</th>\n",
              "      <td>Katsina</td>\n",
              "      <td>Semi-detached duplex</td>\n",
              "      <td>2</td>\n",
              "      <td>2</td>\n",
              "      <td>1</td>\n",
              "      <td>1149999.565</td>\n",
              "      <td>North_West</td>\n",
              "    </tr>\n",
              "    <tr>\n",
              "      <th>1</th>\n",
              "      <td>Ondo</td>\n",
              "      <td>Apartment</td>\n",
              "      <td>4</td>\n",
              "      <td>2</td>\n",
              "      <td>4</td>\n",
              "      <td>1672416.689</td>\n",
              "      <td>South_West</td>\n",
              "    </tr>\n",
              "    <tr>\n",
              "      <th>2</th>\n",
              "      <td>Ekiti</td>\n",
              "      <td>Unknown</td>\n",
              "      <td>7</td>\n",
              "      <td>5</td>\n",
              "      <td>3</td>\n",
              "      <td>3364799.814</td>\n",
              "      <td>South_West</td>\n",
              "    </tr>\n",
              "    <tr>\n",
              "      <th>3</th>\n",
              "      <td>Anambra</td>\n",
              "      <td>Detached duplex</td>\n",
              "      <td>5</td>\n",
              "      <td>2</td>\n",
              "      <td>4</td>\n",
              "      <td>2410306.756</td>\n",
              "      <td>South_East</td>\n",
              "    </tr>\n",
              "    <tr>\n",
              "      <th>4</th>\n",
              "      <td>Kogi</td>\n",
              "      <td>Terrace duplex</td>\n",
              "      <td>4</td>\n",
              "      <td>5</td>\n",
              "      <td>6</td>\n",
              "      <td>2600700.898</td>\n",
              "      <td>North_Central</td>\n",
              "    </tr>\n",
              "  </tbody>\n",
              "</table>\n",
              "</div>"
            ],
            "text/plain": [
              "  location                  type  bedroom  bathroom  parking_space  \\\n",
              "0  Katsina  Semi-detached duplex        2         2              1   \n",
              "1     Ondo             Apartment        4         2              4   \n",
              "2    Ekiti               Unknown        7         5              3   \n",
              "3  Anambra       Detached duplex        5         2              4   \n",
              "4     Kogi        Terrace duplex        4         5              6   \n",
              "\n",
              "         price       geo_zone  \n",
              "0  1149999.565     North_West  \n",
              "1  1672416.689     South_West  \n",
              "2  3364799.814     South_West  \n",
              "3  2410306.756     South_East  \n",
              "4  2600700.898  North_Central  "
            ]
          },
          "execution_count": 10,
          "metadata": {},
          "output_type": "execute_result"
        }
      ],
      "source": [
        "train.head()"
      ]
    },
    {
      "cell_type": "markdown",
      "metadata": {},
      "source": [
        "### Model Training\n",
        "\n",
        "PyCaret, an open-source, low-code machine learning library in Python, serves as an exceptional tool for automating various machine learning workflows. It facilitates end-to-end machine learning and model management, significantly accelerating the experiment cycle and bolstering productivity.\n",
        "\n",
        "Steps taken in my training:\n",
        "\n",
        "1. Created an Instance of RegressionExperiment: This object is where i we conduct my regression experiment. Regression is a statistical process used to predict the outcome of a dependent variable based on the values of independent variables.\n",
        "\n",
        "2. Setup the Experiment Environment:I called the setup method and provided the following parameters:\n",
        "\n",
        "- data: The dataset you'll be using, which is your training data.\n",
        "- target : The target variable you want to predict.\n",
        "- session_id: A random seed for reproducibility of results.\n",
        "- remove_outliers: This will remove outlier values from your dataset.\n",
        "- transform_target : This will apply a transformation to the target variable to ensure a normal distribution, which can help some models perform better.\n",
        "- normalize_method: This will scale numeric features to a specific range between 0 and 1.\n",
        "- numeric_features : These are the numeric features in your data.\n",
        "- categorical_features : These are the categorical features in your data.\n",
        "- feature_selection : This will enable automatic feature selection.\n",
        "- use_gpu: This will enable GPU usage if available, potentially making computations faster.\n",
        "- verbose: This will reduce the amount of information printed by the function.\n",
        "- log_experiment: This sets Dagshub as the platform for logging the experiment results.\n",
        "- log_data: This enables logging the dataset.\n",
        "- log_plots: This enables logging the plots.\n",
        "- experiment_name : This sets the name of the experiment.\n",
        "\n",
        "After the setup, PyCaret will preprocess the data according to the parameters you've set, ensuring it's ready for machine learning algorithms. PyCaret also allows for model comparison, tuning, and evaluation which can be done in few lines of code, making the library a very efficient tool for machine learning tasks"
      ]
    },
    {
      "cell_type": "markdown",
      "metadata": {},
      "source": [
        "#### Initialize Setup\n",
        "The setup function initializes the experiment in PyCaret and creates the transformation pipeline based on all the parameters passed in the function. Setup function must be called before executing any other function. It takes two required parameters: data and target. All the other parameters are optional and are used for configuring data preprocessing pipeline.\n"
      ]
    },
    {
      "cell_type": "code",
      "execution_count": 11,
      "metadata": {
        "gather": {
          "logged": 1690585321697
        }
      },
      "outputs": [
        {
          "data": {
            "text/plain": [
              "<pycaret.regression.oop.RegressionExperiment at 0x2508ff50370>"
            ]
          },
          "execution_count": 11,
          "metadata": {},
          "output_type": "execute_result"
        }
      ],
      "source": [
        "# This experiment is used to test the baseline model\n",
        "baseline_model = RegressionExperiment()\n",
        "# # initialize setup\n",
        "baseline_model.setup( data = train, \n",
        "                           target = 'price',\n",
        "                           session_id=2023,\n",
        "                           remove_outliers=True, \n",
        "                           transform_target = True,\n",
        "                           normalize_method='minmax',  \n",
        "                           numeric_features =['bedroom', 'bathroom', 'parking_space'],  \n",
        "                           categorical_features =['location', 'type','geo_zone'], \n",
        "                           #feature_selection = True, # model did was not performing well when this was true                                                \n",
        "                           use_gpu=True,\n",
        "                           verbose=False,\n",
        "                           log_experiment= 'dagshub',\n",
        "                           log_data=True,\n",
        "                           log_plots=True,\n",
        "                           experiment_name ='DNS-Hackathon-2023'\n",
        "                           )"
      ]
    },
    {
      "cell_type": "markdown",
      "metadata": {},
      "source": [
        "#### Compare Baseline Model\n",
        "The compare_models function trains and evaluates the performance of all the estimators available in the model library using cross-validation."
      ]
    },
    {
      "cell_type": "code",
      "execution_count": 12,
      "metadata": {
        "gather": {
          "logged": 1690585431319
        }
      },
      "outputs": [
        {
          "data": {
            "text/html": [
              "<div>\n",
              "<style scoped>\n",
              "    .dataframe tbody tr th:only-of-type {\n",
              "        vertical-align: middle;\n",
              "    }\n",
              "\n",
              "    .dataframe tbody tr th {\n",
              "        vertical-align: top;\n",
              "    }\n",
              "\n",
              "    .dataframe thead th {\n",
              "        text-align: right;\n",
              "    }\n",
              "</style>\n",
              "<table border=\"1\" class=\"dataframe\">\n",
              "  <thead>\n",
              "    <tr style=\"text-align: right;\">\n",
              "      <th></th>\n",
              "      <th></th>\n",
              "      <th></th>\n",
              "    </tr>\n",
              "    <tr>\n",
              "      <th></th>\n",
              "      <th></th>\n",
              "      <th></th>\n",
              "    </tr>\n",
              "  </thead>\n",
              "  <tbody>\n",
              "    <tr>\n",
              "      <th>Initiated</th>\n",
              "      <td>. . . . . . . . . . . . . . . . . .</td>\n",
              "      <td>11:19:18</td>\n",
              "    </tr>\n",
              "    <tr>\n",
              "      <th>Status</th>\n",
              "      <td>. . . . . . . . . . . . . . . . . .</td>\n",
              "      <td>Loading Estimator</td>\n",
              "    </tr>\n",
              "    <tr>\n",
              "      <th>Estimator</th>\n",
              "      <td>. . . . . . . . . . . . . . . . . .</td>\n",
              "      <td>Linear Regression</td>\n",
              "    </tr>\n",
              "  </tbody>\n",
              "</table>\n",
              "</div>"
            ],
            "text/plain": [
              "                                                                 \n",
              "                                                                 \n",
              "Initiated  . . . . . . . . . . . . . . . . . .           11:19:18\n",
              "Status     . . . . . . . . . . . . . . . . . .  Loading Estimator\n",
              "Estimator  . . . . . . . . . . . . . . . . . .  Linear Regression"
            ]
          },
          "metadata": {},
          "output_type": "display_data"
        },
        {
          "data": {
            "text/html": [
              "<style type=\"text/css\">\n",
              "#T_4a1d2 th {\n",
              "  text-align: left;\n",
              "}\n",
              "#T_4a1d2_row0_col0, #T_4a1d2_row0_col1, #T_4a1d2_row0_col6, #T_4a1d2_row1_col0, #T_4a1d2_row1_col2, #T_4a1d2_row1_col3, #T_4a1d2_row1_col4, #T_4a1d2_row1_col5, #T_4a1d2_row2_col0, #T_4a1d2_row2_col1, #T_4a1d2_row2_col2, #T_4a1d2_row2_col3, #T_4a1d2_row2_col4, #T_4a1d2_row2_col5, #T_4a1d2_row2_col6, #T_4a1d2_row3_col0, #T_4a1d2_row3_col1, #T_4a1d2_row3_col2, #T_4a1d2_row3_col3, #T_4a1d2_row3_col4, #T_4a1d2_row3_col5, #T_4a1d2_row3_col6, #T_4a1d2_row4_col0, #T_4a1d2_row4_col1, #T_4a1d2_row4_col2, #T_4a1d2_row4_col3, #T_4a1d2_row4_col4, #T_4a1d2_row4_col5, #T_4a1d2_row4_col6, #T_4a1d2_row5_col0, #T_4a1d2_row5_col1, #T_4a1d2_row5_col2, #T_4a1d2_row5_col3, #T_4a1d2_row5_col4, #T_4a1d2_row5_col5, #T_4a1d2_row5_col6, #T_4a1d2_row6_col0, #T_4a1d2_row6_col1, #T_4a1d2_row6_col2, #T_4a1d2_row6_col3, #T_4a1d2_row6_col4, #T_4a1d2_row6_col5, #T_4a1d2_row6_col6, #T_4a1d2_row7_col0, #T_4a1d2_row7_col1, #T_4a1d2_row7_col2, #T_4a1d2_row7_col3, #T_4a1d2_row7_col4, #T_4a1d2_row7_col5, #T_4a1d2_row7_col6, #T_4a1d2_row8_col0, #T_4a1d2_row8_col1, #T_4a1d2_row8_col2, #T_4a1d2_row8_col3, #T_4a1d2_row8_col4, #T_4a1d2_row8_col5, #T_4a1d2_row8_col6, #T_4a1d2_row9_col0, #T_4a1d2_row9_col1, #T_4a1d2_row9_col2, #T_4a1d2_row9_col3, #T_4a1d2_row9_col4, #T_4a1d2_row9_col5, #T_4a1d2_row9_col6, #T_4a1d2_row10_col0, #T_4a1d2_row10_col1, #T_4a1d2_row10_col2, #T_4a1d2_row10_col3, #T_4a1d2_row10_col4, #T_4a1d2_row10_col5, #T_4a1d2_row10_col6, #T_4a1d2_row11_col0, #T_4a1d2_row11_col1, #T_4a1d2_row11_col2, #T_4a1d2_row11_col3, #T_4a1d2_row11_col4, #T_4a1d2_row11_col5, #T_4a1d2_row11_col6, #T_4a1d2_row12_col0, #T_4a1d2_row12_col1, #T_4a1d2_row12_col2, #T_4a1d2_row12_col3, #T_4a1d2_row12_col4, #T_4a1d2_row12_col5, #T_4a1d2_row12_col6, #T_4a1d2_row13_col0, #T_4a1d2_row13_col1, #T_4a1d2_row13_col2, #T_4a1d2_row13_col3, #T_4a1d2_row13_col4, #T_4a1d2_row13_col5, #T_4a1d2_row13_col6, #T_4a1d2_row14_col0, #T_4a1d2_row14_col1, #T_4a1d2_row14_col2, #T_4a1d2_row14_col3, #T_4a1d2_row14_col4, #T_4a1d2_row14_col5, #T_4a1d2_row14_col6, #T_4a1d2_row15_col0, #T_4a1d2_row15_col1, #T_4a1d2_row15_col2, #T_4a1d2_row15_col3, #T_4a1d2_row15_col4, #T_4a1d2_row15_col5, #T_4a1d2_row15_col6, #T_4a1d2_row16_col0, #T_4a1d2_row16_col1, #T_4a1d2_row16_col2, #T_4a1d2_row16_col3, #T_4a1d2_row16_col4, #T_4a1d2_row16_col5, #T_4a1d2_row16_col6 {\n",
              "  text-align: left;\n",
              "}\n",
              "#T_4a1d2_row0_col2, #T_4a1d2_row0_col3, #T_4a1d2_row0_col4, #T_4a1d2_row0_col5, #T_4a1d2_row1_col1, #T_4a1d2_row1_col6 {\n",
              "  text-align: left;\n",
              "  background-color: yellow;\n",
              "}\n",
              "#T_4a1d2_row0_col7, #T_4a1d2_row1_col7, #T_4a1d2_row2_col7, #T_4a1d2_row4_col7, #T_4a1d2_row5_col7, #T_4a1d2_row6_col7, #T_4a1d2_row7_col7, #T_4a1d2_row8_col7, #T_4a1d2_row9_col7, #T_4a1d2_row10_col7, #T_4a1d2_row11_col7, #T_4a1d2_row12_col7, #T_4a1d2_row13_col7, #T_4a1d2_row14_col7, #T_4a1d2_row15_col7, #T_4a1d2_row16_col7 {\n",
              "  text-align: left;\n",
              "  background-color: lightgrey;\n",
              "}\n",
              "#T_4a1d2_row3_col7 {\n",
              "  text-align: left;\n",
              "  background-color: yellow;\n",
              "  background-color: lightgrey;\n",
              "}\n",
              "</style>\n",
              "<table id=\"T_4a1d2\">\n",
              "  <thead>\n",
              "    <tr>\n",
              "      <th class=\"blank level0\" >&nbsp;</th>\n",
              "      <th id=\"T_4a1d2_level0_col0\" class=\"col_heading level0 col0\" >Model</th>\n",
              "      <th id=\"T_4a1d2_level0_col1\" class=\"col_heading level0 col1\" >MAE</th>\n",
              "      <th id=\"T_4a1d2_level0_col2\" class=\"col_heading level0 col2\" >MSE</th>\n",
              "      <th id=\"T_4a1d2_level0_col3\" class=\"col_heading level0 col3\" >RMSE</th>\n",
              "      <th id=\"T_4a1d2_level0_col4\" class=\"col_heading level0 col4\" >R2</th>\n",
              "      <th id=\"T_4a1d2_level0_col5\" class=\"col_heading level0 col5\" >RMSLE</th>\n",
              "      <th id=\"T_4a1d2_level0_col6\" class=\"col_heading level0 col6\" >MAPE</th>\n",
              "      <th id=\"T_4a1d2_level0_col7\" class=\"col_heading level0 col7\" >TT (Sec)</th>\n",
              "    </tr>\n",
              "  </thead>\n",
              "  <tbody>\n",
              "    <tr>\n",
              "      <th id=\"T_4a1d2_level0_row0\" class=\"row_heading level0 row0\" >gbr</th>\n",
              "      <td id=\"T_4a1d2_row0_col0\" class=\"data row0 col0\" >Gradient Boosting Regressor</td>\n",
              "      <td id=\"T_4a1d2_row0_col1\" class=\"data row0 col1\" >262554.4024</td>\n",
              "      <td id=\"T_4a1d2_row0_col2\" class=\"data row0 col2\" >298091248508.8656</td>\n",
              "      <td id=\"T_4a1d2_row0_col3\" class=\"data row0 col3\" >539761.0153</td>\n",
              "      <td id=\"T_4a1d2_row0_col4\" class=\"data row0 col4\" >0.7448</td>\n",
              "      <td id=\"T_4a1d2_row0_col5\" class=\"data row0 col5\" >0.1905</td>\n",
              "      <td id=\"T_4a1d2_row0_col6\" class=\"data row0 col6\" >0.1175</td>\n",
              "      <td id=\"T_4a1d2_row0_col7\" class=\"data row0 col7\" >1.0300</td>\n",
              "    </tr>\n",
              "    <tr>\n",
              "      <th id=\"T_4a1d2_level0_row1\" class=\"row_heading level0 row1\" >lightgbm</th>\n",
              "      <td id=\"T_4a1d2_row1_col0\" class=\"data row1 col0\" >Light Gradient Boosting Machine</td>\n",
              "      <td id=\"T_4a1d2_row1_col1\" class=\"data row1 col1\" >260290.5541</td>\n",
              "      <td id=\"T_4a1d2_row1_col2\" class=\"data row1 col2\" >302828125030.1754</td>\n",
              "      <td id=\"T_4a1d2_row1_col3\" class=\"data row1 col3\" >543455.1166</td>\n",
              "      <td id=\"T_4a1d2_row1_col4\" class=\"data row1 col4\" >0.7412</td>\n",
              "      <td id=\"T_4a1d2_row1_col5\" class=\"data row1 col5\" >0.1911</td>\n",
              "      <td id=\"T_4a1d2_row1_col6\" class=\"data row1 col6\" >0.1167</td>\n",
              "      <td id=\"T_4a1d2_row1_col7\" class=\"data row1 col7\" >0.9580</td>\n",
              "    </tr>\n",
              "    <tr>\n",
              "      <th id=\"T_4a1d2_level0_row2\" class=\"row_heading level0 row2\" >huber</th>\n",
              "      <td id=\"T_4a1d2_row2_col0\" class=\"data row2 col0\" >Huber Regressor</td>\n",
              "      <td id=\"T_4a1d2_row2_col1\" class=\"data row2 col1\" >292159.8251</td>\n",
              "      <td id=\"T_4a1d2_row2_col2\" class=\"data row2 col2\" >344704794777.1032</td>\n",
              "      <td id=\"T_4a1d2_row2_col3\" class=\"data row2 col3\" >581597.4327</td>\n",
              "      <td id=\"T_4a1d2_row2_col4\" class=\"data row2 col4\" >0.7037</td>\n",
              "      <td id=\"T_4a1d2_row2_col5\" class=\"data row2 col5\" >0.1976</td>\n",
              "      <td id=\"T_4a1d2_row2_col6\" class=\"data row2 col6\" >0.1251</td>\n",
              "      <td id=\"T_4a1d2_row2_col7\" class=\"data row2 col7\" >0.7380</td>\n",
              "    </tr>\n",
              "    <tr>\n",
              "      <th id=\"T_4a1d2_level0_row3\" class=\"row_heading level0 row3\" >br</th>\n",
              "      <td id=\"T_4a1d2_row3_col0\" class=\"data row3 col0\" >Bayesian Ridge</td>\n",
              "      <td id=\"T_4a1d2_row3_col1\" class=\"data row3 col1\" >297814.9794</td>\n",
              "      <td id=\"T_4a1d2_row3_col2\" class=\"data row3 col2\" >345640394477.1400</td>\n",
              "      <td id=\"T_4a1d2_row3_col3\" class=\"data row3 col3\" >582839.7347</td>\n",
              "      <td id=\"T_4a1d2_row3_col4\" class=\"data row3 col4\" >0.7025</td>\n",
              "      <td id=\"T_4a1d2_row3_col5\" class=\"data row3 col5\" >0.1968</td>\n",
              "      <td id=\"T_4a1d2_row3_col6\" class=\"data row3 col6\" >0.1281</td>\n",
              "      <td id=\"T_4a1d2_row3_col7\" class=\"data row3 col7\" >0.5130</td>\n",
              "    </tr>\n",
              "    <tr>\n",
              "      <th id=\"T_4a1d2_level0_row4\" class=\"row_heading level0 row4\" >lr</th>\n",
              "      <td id=\"T_4a1d2_row4_col0\" class=\"data row4 col0\" >Linear Regression</td>\n",
              "      <td id=\"T_4a1d2_row4_col1\" class=\"data row4 col1\" >298252.3136</td>\n",
              "      <td id=\"T_4a1d2_row4_col2\" class=\"data row4 col2\" >346273422659.1978</td>\n",
              "      <td id=\"T_4a1d2_row4_col3\" class=\"data row4 col3\" >583416.6446</td>\n",
              "      <td id=\"T_4a1d2_row4_col4\" class=\"data row4 col4\" >0.7019</td>\n",
              "      <td id=\"T_4a1d2_row4_col5\" class=\"data row4 col5\" >0.1968</td>\n",
              "      <td id=\"T_4a1d2_row4_col6\" class=\"data row4 col6\" >0.1282</td>\n",
              "      <td id=\"T_4a1d2_row4_col7\" class=\"data row4 col7\" >1.0100</td>\n",
              "    </tr>\n",
              "    <tr>\n",
              "      <th id=\"T_4a1d2_level0_row5\" class=\"row_heading level0 row5\" >rf</th>\n",
              "      <td id=\"T_4a1d2_row5_col0\" class=\"data row5 col0\" >Random Forest Regressor</td>\n",
              "      <td id=\"T_4a1d2_row5_col1\" class=\"data row5 col1\" >294858.5223</td>\n",
              "      <td id=\"T_4a1d2_row5_col2\" class=\"data row5 col2\" >356654074064.3672</td>\n",
              "      <td id=\"T_4a1d2_row5_col3\" class=\"data row5 col3\" >590088.2786</td>\n",
              "      <td id=\"T_4a1d2_row5_col4\" class=\"data row5 col4\" >0.6953</td>\n",
              "      <td id=\"T_4a1d2_row5_col5\" class=\"data row5 col5\" >0.2128</td>\n",
              "      <td id=\"T_4a1d2_row5_col6\" class=\"data row5 col6\" >0.1341</td>\n",
              "      <td id=\"T_4a1d2_row5_col7\" class=\"data row5 col7\" >1.3400</td>\n",
              "    </tr>\n",
              "    <tr>\n",
              "      <th id=\"T_4a1d2_level0_row6\" class=\"row_heading level0 row6\" >ridge</th>\n",
              "      <td id=\"T_4a1d2_row6_col0\" class=\"data row6 col0\" >Ridge Regression</td>\n",
              "      <td id=\"T_4a1d2_row6_col1\" class=\"data row6 col1\" >338123.6936</td>\n",
              "      <td id=\"T_4a1d2_row6_col2\" class=\"data row6 col2\" >416361798128.5470</td>\n",
              "      <td id=\"T_4a1d2_row6_col3\" class=\"data row6 col3\" >638534.7738</td>\n",
              "      <td id=\"T_4a1d2_row6_col4\" class=\"data row6 col4\" >0.6433</td>\n",
              "      <td id=\"T_4a1d2_row6_col5\" class=\"data row6 col5\" >0.2210</td>\n",
              "      <td id=\"T_4a1d2_row6_col6\" class=\"data row6 col6\" >0.1471</td>\n",
              "      <td id=\"T_4a1d2_row6_col7\" class=\"data row6 col7\" >0.9970</td>\n",
              "    </tr>\n",
              "    <tr>\n",
              "      <th id=\"T_4a1d2_level0_row7\" class=\"row_heading level0 row7\" >et</th>\n",
              "      <td id=\"T_4a1d2_row7_col0\" class=\"data row7 col0\" >Extra Trees Regressor</td>\n",
              "      <td id=\"T_4a1d2_row7_col1\" class=\"data row7 col1\" >324846.0893</td>\n",
              "      <td id=\"T_4a1d2_row7_col2\" class=\"data row7 col2\" >457296931235.5127</td>\n",
              "      <td id=\"T_4a1d2_row7_col3\" class=\"data row7 col3\" >667906.2549</td>\n",
              "      <td id=\"T_4a1d2_row7_col4\" class=\"data row7 col4\" >0.6091</td>\n",
              "      <td id=\"T_4a1d2_row7_col5\" class=\"data row7 col5\" >0.2352</td>\n",
              "      <td id=\"T_4a1d2_row7_col6\" class=\"data row7 col6\" >0.1487</td>\n",
              "      <td id=\"T_4a1d2_row7_col7\" class=\"data row7 col7\" >1.3020</td>\n",
              "    </tr>\n",
              "    <tr>\n",
              "      <th id=\"T_4a1d2_level0_row8\" class=\"row_heading level0 row8\" >knn</th>\n",
              "      <td id=\"T_4a1d2_row8_col0\" class=\"data row8 col0\" >K Neighbors Regressor</td>\n",
              "      <td id=\"T_4a1d2_row8_col1\" class=\"data row8 col1\" >383659.3344</td>\n",
              "      <td id=\"T_4a1d2_row8_col2\" class=\"data row8 col2\" >490905157632.0000</td>\n",
              "      <td id=\"T_4a1d2_row8_col3\" class=\"data row8 col3\" >693854.7375</td>\n",
              "      <td id=\"T_4a1d2_row8_col4\" class=\"data row8 col4\" >0.5793</td>\n",
              "      <td id=\"T_4a1d2_row8_col5\" class=\"data row8 col5\" >0.2459</td>\n",
              "      <td id=\"T_4a1d2_row8_col6\" class=\"data row8 col6\" >0.1692</td>\n",
              "      <td id=\"T_4a1d2_row8_col7\" class=\"data row8 col7\" >1.0090</td>\n",
              "    </tr>\n",
              "    <tr>\n",
              "      <th id=\"T_4a1d2_level0_row9\" class=\"row_heading level0 row9\" >ada</th>\n",
              "      <td id=\"T_4a1d2_row9_col0\" class=\"data row9 col0\" >AdaBoost Regressor</td>\n",
              "      <td id=\"T_4a1d2_row9_col1\" class=\"data row9 col1\" >465372.0807</td>\n",
              "      <td id=\"T_4a1d2_row9_col2\" class=\"data row9 col2\" >525686480554.8436</td>\n",
              "      <td id=\"T_4a1d2_row9_col3\" class=\"data row9 col3\" >721588.3476</td>\n",
              "      <td id=\"T_4a1d2_row9_col4\" class=\"data row9 col4\" >0.5444</td>\n",
              "      <td id=\"T_4a1d2_row9_col5\" class=\"data row9 col5\" >0.2741</td>\n",
              "      <td id=\"T_4a1d2_row9_col6\" class=\"data row9 col6\" >0.2179</td>\n",
              "      <td id=\"T_4a1d2_row9_col7\" class=\"data row9 col7\" >0.9950</td>\n",
              "    </tr>\n",
              "    <tr>\n",
              "      <th id=\"T_4a1d2_level0_row10\" class=\"row_heading level0 row10\" >dt</th>\n",
              "      <td id=\"T_4a1d2_row10_col0\" class=\"data row10 col0\" >Decision Tree Regressor</td>\n",
              "      <td id=\"T_4a1d2_row10_col1\" class=\"data row10 col1\" >394671.3445</td>\n",
              "      <td id=\"T_4a1d2_row10_col2\" class=\"data row10 col2\" >610201791095.4446</td>\n",
              "      <td id=\"T_4a1d2_row10_col3\" class=\"data row10 col3\" >771638.8458</td>\n",
              "      <td id=\"T_4a1d2_row10_col4\" class=\"data row10 col4\" >0.4770</td>\n",
              "      <td id=\"T_4a1d2_row10_col5\" class=\"data row10 col5\" >0.2766</td>\n",
              "      <td id=\"T_4a1d2_row10_col6\" class=\"data row10 col6\" >0.1850</td>\n",
              "      <td id=\"T_4a1d2_row10_col7\" class=\"data row10 col7\" >0.9640</td>\n",
              "    </tr>\n",
              "    <tr>\n",
              "      <th id=\"T_4a1d2_level0_row11\" class=\"row_heading level0 row11\" >omp</th>\n",
              "      <td id=\"T_4a1d2_row11_col0\" class=\"data row11 col0\" >Orthogonal Matching Pursuit</td>\n",
              "      <td id=\"T_4a1d2_row11_col1\" class=\"data row11 col1\" >507206.5926</td>\n",
              "      <td id=\"T_4a1d2_row11_col2\" class=\"data row11 col2\" >692233721581.0823</td>\n",
              "      <td id=\"T_4a1d2_row11_col3\" class=\"data row11 col3\" >828672.4704</td>\n",
              "      <td id=\"T_4a1d2_row11_col4\" class=\"data row11 col4\" >0.3980</td>\n",
              "      <td id=\"T_4a1d2_row11_col5\" class=\"data row11 col5\" >0.3085</td>\n",
              "      <td id=\"T_4a1d2_row11_col6\" class=\"data row11 col6\" >0.2236</td>\n",
              "      <td id=\"T_4a1d2_row11_col7\" class=\"data row11 col7\" >0.5250</td>\n",
              "    </tr>\n",
              "    <tr>\n",
              "      <th id=\"T_4a1d2_level0_row12\" class=\"row_heading level0 row12\" >dummy</th>\n",
              "      <td id=\"T_4a1d2_row12_col0\" class=\"data row12 col0\" >Dummy Regressor</td>\n",
              "      <td id=\"T_4a1d2_row12_col1\" class=\"data row12 col1\" >751227.2562</td>\n",
              "      <td id=\"T_4a1d2_row12_col2\" class=\"data row12 col2\" >1216504319180.8000</td>\n",
              "      <td id=\"T_4a1d2_row12_col3\" class=\"data row12 col3\" >1100651.9250</td>\n",
              "      <td id=\"T_4a1d2_row12_col4\" class=\"data row12 col4\" >-0.0621</td>\n",
              "      <td id=\"T_4a1d2_row12_col5\" class=\"data row12 col5\" >0.4433</td>\n",
              "      <td id=\"T_4a1d2_row12_col6\" class=\"data row12 col6\" >0.3612</td>\n",
              "      <td id=\"T_4a1d2_row12_col7\" class=\"data row12 col7\" >1.0180</td>\n",
              "    </tr>\n",
              "    <tr>\n",
              "      <th id=\"T_4a1d2_level0_row13\" class=\"row_heading level0 row13\" >lasso</th>\n",
              "      <td id=\"T_4a1d2_row13_col0\" class=\"data row13 col0\" >Lasso Regression</td>\n",
              "      <td id=\"T_4a1d2_row13_col1\" class=\"data row13 col1\" >751227.4326</td>\n",
              "      <td id=\"T_4a1d2_row13_col2\" class=\"data row13 col2\" >1216508668963.3550</td>\n",
              "      <td id=\"T_4a1d2_row13_col3\" class=\"data row13 col3\" >1100653.9132</td>\n",
              "      <td id=\"T_4a1d2_row13_col4\" class=\"data row13 col4\" >-0.0621</td>\n",
              "      <td id=\"T_4a1d2_row13_col5\" class=\"data row13 col5\" >0.4433</td>\n",
              "      <td id=\"T_4a1d2_row13_col6\" class=\"data row13 col6\" >0.3612</td>\n",
              "      <td id=\"T_4a1d2_row13_col7\" class=\"data row13 col7\" >0.9950</td>\n",
              "    </tr>\n",
              "    <tr>\n",
              "      <th id=\"T_4a1d2_level0_row14\" class=\"row_heading level0 row14\" >en</th>\n",
              "      <td id=\"T_4a1d2_row14_col0\" class=\"data row14 col0\" >Elastic Net</td>\n",
              "      <td id=\"T_4a1d2_row14_col1\" class=\"data row14 col1\" >751227.4326</td>\n",
              "      <td id=\"T_4a1d2_row14_col2\" class=\"data row14 col2\" >1216508668963.3550</td>\n",
              "      <td id=\"T_4a1d2_row14_col3\" class=\"data row14 col3\" >1100653.9132</td>\n",
              "      <td id=\"T_4a1d2_row14_col4\" class=\"data row14 col4\" >-0.0621</td>\n",
              "      <td id=\"T_4a1d2_row14_col5\" class=\"data row14 col5\" >0.4433</td>\n",
              "      <td id=\"T_4a1d2_row14_col6\" class=\"data row14 col6\" >0.3612</td>\n",
              "      <td id=\"T_4a1d2_row14_col7\" class=\"data row14 col7\" >0.9140</td>\n",
              "    </tr>\n",
              "    <tr>\n",
              "      <th id=\"T_4a1d2_level0_row15\" class=\"row_heading level0 row15\" >llar</th>\n",
              "      <td id=\"T_4a1d2_row15_col0\" class=\"data row15 col0\" >Lasso Least Angle Regression</td>\n",
              "      <td id=\"T_4a1d2_row15_col1\" class=\"data row15 col1\" >751227.4326</td>\n",
              "      <td id=\"T_4a1d2_row15_col2\" class=\"data row15 col2\" >1216508668963.3550</td>\n",
              "      <td id=\"T_4a1d2_row15_col3\" class=\"data row15 col3\" >1100653.9132</td>\n",
              "      <td id=\"T_4a1d2_row15_col4\" class=\"data row15 col4\" >-0.0621</td>\n",
              "      <td id=\"T_4a1d2_row15_col5\" class=\"data row15 col5\" >0.4433</td>\n",
              "      <td id=\"T_4a1d2_row15_col6\" class=\"data row15 col6\" >0.3612</td>\n",
              "      <td id=\"T_4a1d2_row15_col7\" class=\"data row15 col7\" >0.9140</td>\n",
              "    </tr>\n",
              "    <tr>\n",
              "      <th id=\"T_4a1d2_level0_row16\" class=\"row_heading level0 row16\" >par</th>\n",
              "      <td id=\"T_4a1d2_row16_col0\" class=\"data row16 col0\" >Passive Aggressive Regressor</td>\n",
              "      <td id=\"T_4a1d2_row16_col1\" class=\"data row16 col1\" >3332901.8809</td>\n",
              "      <td id=\"T_4a1d2_row16_col2\" class=\"data row16 col2\" >658758683314067.2500</td>\n",
              "      <td id=\"T_4a1d2_row16_col3\" class=\"data row16 col3\" >16319845.9341</td>\n",
              "      <td id=\"T_4a1d2_row16_col4\" class=\"data row16 col4\" >-647.5126</td>\n",
              "      <td id=\"T_4a1d2_row16_col5\" class=\"data row16 col5\" >1.0577</td>\n",
              "      <td id=\"T_4a1d2_row16_col6\" class=\"data row16 col6\" >1.3874</td>\n",
              "      <td id=\"T_4a1d2_row16_col7\" class=\"data row16 col7\" >0.5280</td>\n",
              "    </tr>\n",
              "  </tbody>\n",
              "</table>\n"
            ],
            "text/plain": [
              "<pandas.io.formats.style.Styler at 0x250e8b47a60>"
            ]
          },
          "metadata": {},
          "output_type": "display_data"
        },
        {
          "data": {
            "application/vnd.jupyter.widget-view+json": {
              "model_id": "2ebd4c4dc17f48198a89ecebc20be391",
              "version_major": 2,
              "version_minor": 0
            },
            "text/plain": [
              "Processing:   0%|          | 0/81 [00:00<?, ?it/s]"
            ]
          },
          "metadata": {},
          "output_type": "display_data"
        }
      ],
      "source": [
        "best_models= baseline_model.compare_models( n_select = 1,\n",
        "                                            fold =10,\n",
        "                                            sort=\"RMSE\", \n",
        "                                            exclude=['lar'],\n",
        "                                            #turbo = True,\n",
        "                                                )#include=[\"lightgbm\"]"
      ]
    },
    {
      "cell_type": "markdown",
      "metadata": {},
      "source": [
        "\n",
        "1. The gbr model outperforms all others with an RMSE score of 539761.0153, indicating that it has the least prediction errors among the models. It also possesses the highest R2 score of 0.7448, suggesting it can account for approximately 74.48% of the variance in your dataset, an indicator of a strong predictive model. Additionally, the gbr model has the lowest Mean Absolute Error (MAE) of 262554.4024, which indicates that the average deviation of the model's predictions from actual values is minimal. Best_models variable will hold the best performing model according to the RMSE metric from the models available in PyCaret's library after running 10-fold cross-validation"
      ]
    },
    {
      "cell_type": "markdown",
      "metadata": {},
      "source": [
        "#### Tune Model Function\n",
        "The tune_model function tunes the hyperparameters of the model."
      ]
    },
    {
      "cell_type": "code",
      "execution_count": 34,
      "metadata": {
        "gather": {
          "logged": 1690585885696
        }
      },
      "outputs": [
        {
          "data": {
            "text/html": [
              "<div>\n",
              "<style scoped>\n",
              "    .dataframe tbody tr th:only-of-type {\n",
              "        vertical-align: middle;\n",
              "    }\n",
              "\n",
              "    .dataframe tbody tr th {\n",
              "        vertical-align: top;\n",
              "    }\n",
              "\n",
              "    .dataframe thead th {\n",
              "        text-align: right;\n",
              "    }\n",
              "</style>\n",
              "<table border=\"1\" class=\"dataframe\">\n",
              "  <thead>\n",
              "    <tr style=\"text-align: right;\">\n",
              "      <th></th>\n",
              "      <th></th>\n",
              "      <th></th>\n",
              "    </tr>\n",
              "    <tr>\n",
              "      <th></th>\n",
              "      <th></th>\n",
              "      <th></th>\n",
              "    </tr>\n",
              "  </thead>\n",
              "  <tbody>\n",
              "    <tr>\n",
              "      <th>Initiated</th>\n",
              "      <td>. . . . . . . . . . . . . . . . . .</td>\n",
              "      <td>20:21:54</td>\n",
              "    </tr>\n",
              "    <tr>\n",
              "      <th>Status</th>\n",
              "      <td>. . . . . . . . . . . . . . . . . .</td>\n",
              "      <td>Searching Hyperparameters</td>\n",
              "    </tr>\n",
              "    <tr>\n",
              "      <th>Estimator</th>\n",
              "      <td>. . . . . . . . . . . . . . . . . .</td>\n",
              "      <td>Gradient Boosting Regressor</td>\n",
              "    </tr>\n",
              "  </tbody>\n",
              "</table>\n",
              "</div>"
            ],
            "text/plain": [
              "                                                                           \n",
              "                                                                           \n",
              "Initiated  . . . . . . . . . . . . . . . . . .                     20:21:54\n",
              "Status     . . . . . . . . . . . . . . . . . .    Searching Hyperparameters\n",
              "Estimator  . . . . . . . . . . . . . . . . . .  Gradient Boosting Regressor"
            ]
          },
          "metadata": {},
          "output_type": "display_data"
        },
        {
          "data": {
            "text/html": [],
            "text/plain": [
              "<IPython.core.display.HTML object>"
            ]
          },
          "metadata": {},
          "output_type": "display_data"
        },
        {
          "data": {
            "application/vnd.jupyter.widget-view+json": {
              "model_id": "b5b213ae06ce42db9e561dd51bd35827",
              "version_major": 2,
              "version_minor": 0
            },
            "text/plain": [
              "Processing:   0%|          | 0/7 [00:00<?, ?it/s]"
            ]
          },
          "metadata": {},
          "output_type": "display_data"
        }
      ],
      "source": [
        "tuned_model = baseline_model.tune_model(  best_models,\n",
        "                                                optimize=\"RMSE\",\n",
        "                                                n_iter = 100,\n",
        "                                                choose_better=True)"
      ]
    },
    {
      "cell_type": "markdown",
      "metadata": {},
      "source": [
        "1. The tune_model function from the PyCaret library to optimize the model's parameters with a goal to minimize the Root Mean Squared Error (RMSE). It conducts a random grid search over a space of 100 different combinations of hyperparameters. The choose_better parameter ensures that, if the tuning does not improve the RMSE score by at least 0.01%, the original, untuned model will be retained. The tabular results reflect a 10-fold cross-validation of the tuned model, providing an array of metrics for each fold, and the final mean and standard deviation of these metrics.\n",
        "\n",
        "2. Key observations from the results include the decrease in the mean RMSE from the untuned models' scores  539761.0158 for GBR to 533609.1586 after tuning. This significant reduction in RMSE underscores the effectiveness of the tuning process, as it has optimized the model's parameters to better fit the data, thus boosting the prediction accuracy of the model."
      ]
    },
    {
      "cell_type": "code",
      "execution_count": 14,
      "metadata": {
        "gather": {
          "logged": 1690586783954
        },
        "jupyter": {
          "outputs_hidden": false,
          "source_hidden": false
        },
        "nteract": {
          "transient": {
            "deleting": false
          }
        }
      },
      "outputs": [
        {
          "data": {
            "text/html": [
              "<style type=\"text/css\">\n",
              "</style>\n",
              "<table id=\"T_1a9d2\">\n",
              "  <thead>\n",
              "    <tr>\n",
              "      <th class=\"blank level0\" >&nbsp;</th>\n",
              "      <th id=\"T_1a9d2_level0_col0\" class=\"col_heading level0 col0\" >Model</th>\n",
              "      <th id=\"T_1a9d2_level0_col1\" class=\"col_heading level0 col1\" >MAE</th>\n",
              "      <th id=\"T_1a9d2_level0_col2\" class=\"col_heading level0 col2\" >MSE</th>\n",
              "      <th id=\"T_1a9d2_level0_col3\" class=\"col_heading level0 col3\" >RMSE</th>\n",
              "      <th id=\"T_1a9d2_level0_col4\" class=\"col_heading level0 col4\" >R2</th>\n",
              "      <th id=\"T_1a9d2_level0_col5\" class=\"col_heading level0 col5\" >RMSLE</th>\n",
              "      <th id=\"T_1a9d2_level0_col6\" class=\"col_heading level0 col6\" >MAPE</th>\n",
              "    </tr>\n",
              "  </thead>\n",
              "  <tbody>\n",
              "    <tr>\n",
              "      <th id=\"T_1a9d2_level0_row0\" class=\"row_heading level0 row0\" >0</th>\n",
              "      <td id=\"T_1a9d2_row0_col0\" class=\"data row0 col0\" >Gradient Boosting Regressor</td>\n",
              "      <td id=\"T_1a9d2_row0_col1\" class=\"data row0 col1\" >271812.5498</td>\n",
              "      <td id=\"T_1a9d2_row0_col2\" class=\"data row0 col2\" >315651582892.1093</td>\n",
              "      <td id=\"T_1a9d2_row0_col3\" class=\"data row0 col3\" >561828.7843</td>\n",
              "      <td id=\"T_1a9d2_row0_col4\" class=\"data row0 col4\" >0.7445</td>\n",
              "      <td id=\"T_1a9d2_row0_col5\" class=\"data row0 col5\" >0.1924</td>\n",
              "      <td id=\"T_1a9d2_row0_col6\" class=\"data row0 col6\" >0.1189</td>\n",
              "    </tr>\n",
              "  </tbody>\n",
              "</table>\n"
            ],
            "text/plain": [
              "<pandas.io.formats.style.Styler at 0x25098c9edf0>"
            ]
          },
          "metadata": {},
          "output_type": "display_data"
        }
      ],
      "source": [
        "#\n",
        "baseline_model.predict_model(tuned_model);"
      ]
    },
    {
      "cell_type": "markdown",
      "metadata": {},
      "source": [
        "Looking at the results, the root mean squared error (RMSE) for the tuned Gradient Boosting Regressor on the holdout set is 561828.7843. This value is a measure of the differences between the values predicted by the model and the actual values. Compared to the RMSE during training (which was 533609.1586), the model's performance is slightly worse on the holdout set"
      ]
    },
    {
      "cell_type": "markdown",
      "metadata": {
        "nteract": {
          "transient": {
            "deleting": false
          }
        }
      },
      "source": [
        "### Tuned model evalution metrics visulization"
      ]
    },
    {
      "cell_type": "code",
      "execution_count": 15,
      "metadata": {
        "gather": {
          "logged": 1690586169088
        },
        "jupyter": {
          "outputs_hidden": false,
          "source_hidden": false
        },
        "nteract": {
          "transient": {
            "deleting": false
          }
        }
      },
      "outputs": [
        {
          "data": {
            "text/html": [],
            "text/plain": [
              "<IPython.core.display.HTML object>"
            ]
          },
          "metadata": {},
          "output_type": "display_data"
        },
        {
          "data": {
            "image/png": "[encoded data removed]",
            "text/plain": [
              "<Figure size 800x550 with 2 Axes>"
            ]
          },
          "metadata": {},
          "output_type": "display_data"
        }
      ],
      "source": [
        "baseline_model.plot_model(tuned_model, plot = 'residuals')"
      ]
    },
    {
      "cell_type": "markdown",
      "metadata": {},
      "source": [
        "1. The model appears to perform well on both training and test data, as indicated by R-squared values of 0.82 for both sets. An R-squared value of 0.82 suggests that the model explains about 82% of the variance in your target variable, indicating a strong fit.\n",
        "\n",
        "2. The presence of a slight positive trend in the residuals could imply that the model tends to overestimate for higher predicted values. This systematic error suggests a certain level of bias in the model. It might be beneficial to investigate the cause of this trend, as addressing it could improve model performance.\n",
        "\n",
        "3. A cluster of residuals around the predicted value of 4.32 could imply the model struggles with accurately predicting certain outliers or specific data points. Depending on the impact of these points, you might want to investigate them further to understand why they're not being accurately captured by the model."
      ]
    },
    {
      "cell_type": "code",
      "execution_count": 20,
      "metadata": {
        "gather": {
          "logged": 1690586077437
        },
        "jupyter": {
          "outputs_hidden": false,
          "source_hidden": false
        },
        "nteract": {
          "transient": {
            "deleting": false
          }
        }
      },
      "outputs": [
        {
          "data": {
            "text/html": [],
            "text/plain": [
              "<IPython.core.display.HTML object>"
            ]
          },
          "metadata": {},
          "output_type": "display_data"
        },
        {
          "data": {
            "image/png": "[encoded data removed]",
            "text/plain": [
              "<Figure size 800x500 with 1 Axes>"
            ]
          },
          "metadata": {},
          "output_type": "display_data"
        }
      ],
      "source": [
        "baseline_model.plot_model(tuned_model, plot = 'feature')"
      ]
    },
    {
      "cell_type": "markdown",
      "metadata": {},
      "source": [
        "The model suggests that the number of bedrooms is the most crucial factor, followed by property type, location, and the number of bathrooms. The geo_zone and parking space attributes are less influential. This data can inform property pricing strategies, help identify undervalued or overvalued properties, and improve the accuracy of machine learning models. It's important to note, however, that these findings are based on a specific model and dataset and may not apply universally."
      ]
    },
    {
      "cell_type": "code",
      "execution_count": null,
      "metadata": {},
      "outputs": [],
      "source": [
        "# baseline_model.interpret_model(tuned_model)"
      ]
    },
    {
      "cell_type": "code",
      "execution_count": null,
      "metadata": {
        "gather": {
          "logged": 1690585933164
        },
        "jupyter": {
          "outputs_hidden": false,
          "source_hidden": false
        },
        "nteract": {
          "transient": {
            "deleting": false
          }
        }
      },
      "outputs": [],
      "source": [
        "# The dashboard function generates the interactive dashboard for a trained model. \n",
        "#The dashboard is implemented using ExplainerDashboard \n",
        "baseline_model.dashboard(tuned_model,display_format='external')"
      ]
    },
    {
      "cell_type": "code",
      "execution_count": 29,
      "metadata": {},
      "outputs": [],
      "source": [
        "final_model_tuned = baseline_model.finalize_model(tuned_model)"
      ]
    },
    {
      "cell_type": "code",
      "execution_count": 20,
      "metadata": {},
      "outputs": [
        {
          "data": {
            "text/html": [],
            "text/plain": [
              "<IPython.core.display.HTML object>"
            ]
          },
          "metadata": {},
          "output_type": "display_data"
        },
        {
          "data": {
            "text/html": [
              "<div>\n",
              "<style scoped>\n",
              "    .dataframe tbody tr th:only-of-type {\n",
              "        vertical-align: middle;\n",
              "    }\n",
              "\n",
              "    .dataframe tbody tr th {\n",
              "        vertical-align: top;\n",
              "    }\n",
              "\n",
              "    .dataframe thead th {\n",
              "        text-align: right;\n",
              "    }\n",
              "</style>\n",
              "<table border=\"1\" class=\"dataframe\">\n",
              "  <thead>\n",
              "    <tr style=\"text-align: right;\">\n",
              "      <th></th>\n",
              "      <th>location</th>\n",
              "      <th>type</th>\n",
              "      <th>bedroom</th>\n",
              "      <th>bathroom</th>\n",
              "      <th>parking_space</th>\n",
              "      <th>geo_zone</th>\n",
              "      <th>prediction_label</th>\n",
              "    </tr>\n",
              "  </thead>\n",
              "  <tbody>\n",
              "    <tr>\n",
              "      <th>0</th>\n",
              "      <td>Kano</td>\n",
              "      <td>Penthouse</td>\n",
              "      <td>4</td>\n",
              "      <td>1</td>\n",
              "      <td>2</td>\n",
              "      <td>2</td>\n",
              "      <td>2.124968e+06</td>\n",
              "    </tr>\n",
              "    <tr>\n",
              "      <th>1</th>\n",
              "      <td>Adamawa</td>\n",
              "      <td>Apartment</td>\n",
              "      <td>2</td>\n",
              "      <td>2</td>\n",
              "      <td>4</td>\n",
              "      <td>1</td>\n",
              "      <td>1.071485e+06</td>\n",
              "    </tr>\n",
              "    <tr>\n",
              "      <th>2</th>\n",
              "      <td>Adamawa</td>\n",
              "      <td>Bungalow</td>\n",
              "      <td>2</td>\n",
              "      <td>7</td>\n",
              "      <td>2</td>\n",
              "      <td>1</td>\n",
              "      <td>1.236570e+06</td>\n",
              "    </tr>\n",
              "    <tr>\n",
              "      <th>3</th>\n",
              "      <td>Lagos</td>\n",
              "      <td>Mansion</td>\n",
              "      <td>9</td>\n",
              "      <td>5</td>\n",
              "      <td>2</td>\n",
              "      <td>5</td>\n",
              "      <td>8.092590e+06</td>\n",
              "    </tr>\n",
              "    <tr>\n",
              "      <th>4</th>\n",
              "      <td>Gombe</td>\n",
              "      <td>Semi-detached duplex</td>\n",
              "      <td>5</td>\n",
              "      <td>6</td>\n",
              "      <td>1</td>\n",
              "      <td>1</td>\n",
              "      <td>1.877503e+06</td>\n",
              "    </tr>\n",
              "  </tbody>\n",
              "</table>\n",
              "</div>"
            ],
            "text/plain": [
              "  location                  type  bedroom  bathroom  parking_space  geo_zone  \\\n",
              "0     Kano             Penthouse        4         1              2         2   \n",
              "1  Adamawa             Apartment        2         2              4         1   \n",
              "2  Adamawa              Bungalow        2         7              2         1   \n",
              "3    Lagos               Mansion        9         5              2         5   \n",
              "4    Gombe  Semi-detached duplex        5         6              1         1   \n",
              "\n",
              "   prediction_label  \n",
              "0      2.124968e+06  \n",
              "1      1.071485e+06  \n",
              "2      1.236570e+06  \n",
              "3      8.092590e+06  \n",
              "4      1.877503e+06  "
            ]
          },
          "execution_count": 20,
          "metadata": {},
          "output_type": "execute_result"
        }
      ],
      "source": [
        "# Prediction on Unseen Data\n",
        "predict_unseen_tuned = baseline_model.predict_model(final_model_tuned, data=test);\n",
        "predict_unseen_tuned.head()"
      ]
    },
    {
      "cell_type": "code",
      "execution_count": 21,
      "metadata": {},
      "outputs": [],
      "source": [
        "# Generating CSV for zindi Submissions \n",
        "sub = pd.DataFrame({\n",
        "        \"Id\": Sample_submission['ID'],\n",
        "        \"Price\": predict_unseen_tuned['prediction_label']\n",
        "    })\n",
        "\n",
        "sub.to_csv('submission8_tuned.csv', index=False)"
      ]
    },
    {
      "cell_type": "code",
      "execution_count": 32,
      "metadata": {},
      "outputs": [
        {
          "name": "stdout",
          "output_type": "stream",
          "text": [
            "Transformation Pipeline and Model Successfully Saved\n"
          ]
        },
        {
          "data": {
            "text/plain": [
              "(Pipeline(memory=FastMemory(location=C:\\Users\\OLUWAS~1\\AppData\\Local\\Temp\\joblib),\n",
              "          steps=[('target_transformation',\n",
              "                  TransformerWrapperWithInverse(transformer=TargetTransformer(estimator=PowerTransformer(standardize=False)))),\n",
              "                 ('numerical_imputer',\n",
              "                  TransformerWrapper(include=['bedroom', 'bathroom',\n",
              "                                              'parking_space'],\n",
              "                                     transformer=SimpleImputer())),\n",
              "                 ('categoric...\n",
              "                  TransformerWrapper(include=['location'],\n",
              "                                     transformer=TargetEncoder(cols=['location'],\n",
              "                                                               handle_missing='return_nan'))),\n",
              "                 ('remove_outliers',\n",
              "                  TransformerWrapper(transformer=RemoveOutliers(random_state=2023))),\n",
              "                 ('actual_estimator',\n",
              "                  GradientBoostingRegressor(learning_rate=0.15,\n",
              "                                            max_features='log2',\n",
              "                                            min_impurity_decrease=0,\n",
              "                                            min_samples_split=9,\n",
              "                                            n_estimators=200, random_state=2023,\n",
              "                                            subsample=0.5))]),\n",
              " '../models/GBR(Tuned)_model_v1.pkl')"
            ]
          },
          "execution_count": 32,
          "metadata": {},
          "output_type": "execute_result"
        }
      ],
      "source": [
        "#saving our model to the model folder\n",
        "baseline_model.save_model(final_model_tuned, '../models/GBR(Tuned)_model_v1')"
      ]
    },
    {
      "cell_type": "markdown",
      "metadata": {
        "nteract": {
          "transient": {
            "deleting": false
          }
        }
      },
      "source": [
        "### Advanced training techniques using Ensemble Model"
      ]
    },
    {
      "cell_type": "code",
      "execution_count": 22,
      "metadata": {
        "gather": {
          "logged": 1690586424068
        },
        "jupyter": {
          "outputs_hidden": false,
          "source_hidden": false
        },
        "nteract": {
          "transient": {
            "deleting": false
          }
        }
      },
      "outputs": [
        {
          "data": {
            "text/html": [],
            "text/plain": [
              "<IPython.core.display.HTML object>"
            ]
          },
          "metadata": {},
          "output_type": "display_data"
        },
        {
          "data": {
            "text/html": [
              "<style type=\"text/css\">\n",
              "#T_61264_row10_col0, #T_61264_row10_col1, #T_61264_row10_col2, #T_61264_row10_col3, #T_61264_row10_col4, #T_61264_row10_col5 {\n",
              "  background: yellow;\n",
              "}\n",
              "</style>\n",
              "<table id=\"T_61264\">\n",
              "  <thead>\n",
              "    <tr>\n",
              "      <th class=\"blank level0\" >&nbsp;</th>\n",
              "      <th id=\"T_61264_level0_col0\" class=\"col_heading level0 col0\" >MAE</th>\n",
              "      <th id=\"T_61264_level0_col1\" class=\"col_heading level0 col1\" >MSE</th>\n",
              "      <th id=\"T_61264_level0_col2\" class=\"col_heading level0 col2\" >RMSE</th>\n",
              "      <th id=\"T_61264_level0_col3\" class=\"col_heading level0 col3\" >R2</th>\n",
              "      <th id=\"T_61264_level0_col4\" class=\"col_heading level0 col4\" >RMSLE</th>\n",
              "      <th id=\"T_61264_level0_col5\" class=\"col_heading level0 col5\" >MAPE</th>\n",
              "    </tr>\n",
              "    <tr>\n",
              "      <th class=\"index_name level0\" >Fold</th>\n",
              "      <th class=\"blank col0\" >&nbsp;</th>\n",
              "      <th class=\"blank col1\" >&nbsp;</th>\n",
              "      <th class=\"blank col2\" >&nbsp;</th>\n",
              "      <th class=\"blank col3\" >&nbsp;</th>\n",
              "      <th class=\"blank col4\" >&nbsp;</th>\n",
              "      <th class=\"blank col5\" >&nbsp;</th>\n",
              "    </tr>\n",
              "  </thead>\n",
              "  <tbody>\n",
              "    <tr>\n",
              "      <th id=\"T_61264_level0_row0\" class=\"row_heading level0 row0\" >0</th>\n",
              "      <td id=\"T_61264_row0_col0\" class=\"data row0 col0\" >263712.0715</td>\n",
              "      <td id=\"T_61264_row0_col1\" class=\"data row0 col1\" >298151485223.2267</td>\n",
              "      <td id=\"T_61264_row0_col2\" class=\"data row0 col2\" >546032.4947</td>\n",
              "      <td id=\"T_61264_row0_col3\" class=\"data row0 col3\" >0.7683</td>\n",
              "      <td id=\"T_61264_row0_col4\" class=\"data row0 col4\" >0.1860</td>\n",
              "      <td id=\"T_61264_row0_col5\" class=\"data row0 col5\" >0.1193</td>\n",
              "    </tr>\n",
              "    <tr>\n",
              "      <th id=\"T_61264_level0_row1\" class=\"row_heading level0 row1\" >1</th>\n",
              "      <td id=\"T_61264_row1_col0\" class=\"data row1 col0\" >273982.9048</td>\n",
              "      <td id=\"T_61264_row1_col1\" class=\"data row1 col1\" >375166181388.5619</td>\n",
              "      <td id=\"T_61264_row1_col2\" class=\"data row1 col2\" >612508.1072</td>\n",
              "      <td id=\"T_61264_row1_col3\" class=\"data row1 col3\" >0.7243</td>\n",
              "      <td id=\"T_61264_row1_col4\" class=\"data row1 col4\" >0.1964</td>\n",
              "      <td id=\"T_61264_row1_col5\" class=\"data row1 col5\" >0.1171</td>\n",
              "    </tr>\n",
              "    <tr>\n",
              "      <th id=\"T_61264_level0_row2\" class=\"row_heading level0 row2\" >2</th>\n",
              "      <td id=\"T_61264_row2_col0\" class=\"data row2 col0\" >238036.0267</td>\n",
              "      <td id=\"T_61264_row2_col1\" class=\"data row2 col1\" >246249648468.0442</td>\n",
              "      <td id=\"T_61264_row2_col2\" class=\"data row2 col2\" >496235.4768</td>\n",
              "      <td id=\"T_61264_row2_col3\" class=\"data row2 col3\" >0.7710</td>\n",
              "      <td id=\"T_61264_row2_col4\" class=\"data row2 col4\" >0.1754</td>\n",
              "      <td id=\"T_61264_row2_col5\" class=\"data row2 col5\" >0.1059</td>\n",
              "    </tr>\n",
              "    <tr>\n",
              "      <th id=\"T_61264_level0_row3\" class=\"row_heading level0 row3\" >3</th>\n",
              "      <td id=\"T_61264_row3_col0\" class=\"data row3 col0\" >242862.8515</td>\n",
              "      <td id=\"T_61264_row3_col1\" class=\"data row3 col1\" >173006141734.9210</td>\n",
              "      <td id=\"T_61264_row3_col2\" class=\"data row3 col2\" >415940.0699</td>\n",
              "      <td id=\"T_61264_row3_col3\" class=\"data row3 col3\" >0.8166</td>\n",
              "      <td id=\"T_61264_row3_col4\" class=\"data row3 col4\" >0.1832</td>\n",
              "      <td id=\"T_61264_row3_col5\" class=\"data row3 col5\" >0.1184</td>\n",
              "    </tr>\n",
              "    <tr>\n",
              "      <th id=\"T_61264_level0_row4\" class=\"row_heading level0 row4\" >4</th>\n",
              "      <td id=\"T_61264_row4_col0\" class=\"data row4 col0\" >274764.0339</td>\n",
              "      <td id=\"T_61264_row4_col1\" class=\"data row4 col1\" >428659282075.8687</td>\n",
              "      <td id=\"T_61264_row4_col2\" class=\"data row4 col2\" >654720.7665</td>\n",
              "      <td id=\"T_61264_row4_col3\" class=\"data row4 col3\" >0.6832</td>\n",
              "      <td id=\"T_61264_row4_col4\" class=\"data row4 col4\" >0.1949</td>\n",
              "      <td id=\"T_61264_row4_col5\" class=\"data row4 col5\" >0.1171</td>\n",
              "    </tr>\n",
              "    <tr>\n",
              "      <th id=\"T_61264_level0_row5\" class=\"row_heading level0 row5\" >5</th>\n",
              "      <td id=\"T_61264_row5_col0\" class=\"data row5 col0\" >281492.2688</td>\n",
              "      <td id=\"T_61264_row5_col1\" class=\"data row5 col1\" >422359116167.4905</td>\n",
              "      <td id=\"T_61264_row5_col2\" class=\"data row5 col2\" >649891.6188</td>\n",
              "      <td id=\"T_61264_row5_col3\" class=\"data row5 col3\" >0.6698</td>\n",
              "      <td id=\"T_61264_row5_col4\" class=\"data row5 col4\" >0.2067</td>\n",
              "      <td id=\"T_61264_row5_col5\" class=\"data row5 col5\" >0.1217</td>\n",
              "    </tr>\n",
              "    <tr>\n",
              "      <th id=\"T_61264_level0_row6\" class=\"row_heading level0 row6\" >6</th>\n",
              "      <td id=\"T_61264_row6_col0\" class=\"data row6 col0\" >246842.9941</td>\n",
              "      <td id=\"T_61264_row6_col1\" class=\"data row6 col1\" >259182283983.1632</td>\n",
              "      <td id=\"T_61264_row6_col2\" class=\"data row6 col2\" >509099.4834</td>\n",
              "      <td id=\"T_61264_row6_col3\" class=\"data row6 col3\" >0.7597</td>\n",
              "      <td id=\"T_61264_row6_col4\" class=\"data row6 col4\" >0.1829</td>\n",
              "      <td id=\"T_61264_row6_col5\" class=\"data row6 col5\" >0.1088</td>\n",
              "    </tr>\n",
              "    <tr>\n",
              "      <th id=\"T_61264_level0_row7\" class=\"row_heading level0 row7\" >7</th>\n",
              "      <td id=\"T_61264_row7_col0\" class=\"data row7 col0\" >257363.8158</td>\n",
              "      <td id=\"T_61264_row7_col1\" class=\"data row7 col1\" >279812021404.3126</td>\n",
              "      <td id=\"T_61264_row7_col2\" class=\"data row7 col2\" >528972.6093</td>\n",
              "      <td id=\"T_61264_row7_col3\" class=\"data row7 col3\" >0.7338</td>\n",
              "      <td id=\"T_61264_row7_col4\" class=\"data row7 col4\" >0.1900</td>\n",
              "      <td id=\"T_61264_row7_col5\" class=\"data row7 col5\" >0.1132</td>\n",
              "    </tr>\n",
              "    <tr>\n",
              "      <th id=\"T_61264_level0_row8\" class=\"row_heading level0 row8\" >8</th>\n",
              "      <td id=\"T_61264_row8_col0\" class=\"data row8 col0\" >224782.3859</td>\n",
              "      <td id=\"T_61264_row8_col1\" class=\"data row8 col1\" >182326891420.7310</td>\n",
              "      <td id=\"T_61264_row8_col2\" class=\"data row8 col2\" >426997.5309</td>\n",
              "      <td id=\"T_61264_row8_col3\" class=\"data row8 col3\" >0.8136</td>\n",
              "      <td id=\"T_61264_row8_col4\" class=\"data row8 col4\" >0.1703</td>\n",
              "      <td id=\"T_61264_row8_col5\" class=\"data row8 col5\" >0.1063</td>\n",
              "    </tr>\n",
              "    <tr>\n",
              "      <th id=\"T_61264_level0_row9\" class=\"row_heading level0 row9\" >9</th>\n",
              "      <td id=\"T_61264_row9_col0\" class=\"data row9 col0\" >250357.8150</td>\n",
              "      <td id=\"T_61264_row9_col1\" class=\"data row9 col1\" >207991271374.8350</td>\n",
              "      <td id=\"T_61264_row9_col2\" class=\"data row9 col2\" >456060.6006</td>\n",
              "      <td id=\"T_61264_row9_col3\" class=\"data row9 col3\" >0.8018</td>\n",
              "      <td id=\"T_61264_row9_col4\" class=\"data row9 col4\" >0.1909</td>\n",
              "      <td id=\"T_61264_row9_col5\" class=\"data row9 col5\" >0.1181</td>\n",
              "    </tr>\n",
              "    <tr>\n",
              "      <th id=\"T_61264_level0_row10\" class=\"row_heading level0 row10\" >Mean</th>\n",
              "      <td id=\"T_61264_row10_col0\" class=\"data row10 col0\" >255419.7168</td>\n",
              "      <td id=\"T_61264_row10_col1\" class=\"data row10 col1\" >287290432324.1155</td>\n",
              "      <td id=\"T_61264_row10_col2\" class=\"data row10 col2\" >529645.8758</td>\n",
              "      <td id=\"T_61264_row10_col3\" class=\"data row10 col3\" >0.7542</td>\n",
              "      <td id=\"T_61264_row10_col4\" class=\"data row10 col4\" >0.1877</td>\n",
              "      <td id=\"T_61264_row10_col5\" class=\"data row10 col5\" >0.1146</td>\n",
              "    </tr>\n",
              "    <tr>\n",
              "      <th id=\"T_61264_level0_row11\" class=\"row_heading level0 row11\" >Std</th>\n",
              "      <td id=\"T_61264_row11_col0\" class=\"data row11 col0\" >17230.2403</td>\n",
              "      <td id=\"T_61264_row11_col1\" class=\"data row11 col1\" >88862676233.2224</td>\n",
              "      <td id=\"T_61264_row11_col2\" class=\"data row11 col2\" >82253.7450</td>\n",
              "      <td id=\"T_61264_row11_col3\" class=\"data row11 col3\" >0.0487</td>\n",
              "      <td id=\"T_61264_row11_col4\" class=\"data row11 col4\" >0.0100</td>\n",
              "      <td id=\"T_61264_row11_col5\" class=\"data row11 col5\" >0.0054</td>\n",
              "    </tr>\n",
              "  </tbody>\n",
              "</table>\n"
            ],
            "text/plain": [
              "<pandas.io.formats.style.Styler at 0x25099eed820>"
            ]
          },
          "metadata": {},
          "output_type": "display_data"
        },
        {
          "data": {
            "application/vnd.jupyter.widget-view+json": {
              "model_id": "16dd35470cce4d178f356f24e5dced1f",
              "version_major": 2,
              "version_minor": 0
            },
            "text/plain": [
              "Processing:   0%|          | 0/6 [00:00<?, ?it/s]"
            ]
          },
          "metadata": {},
          "output_type": "display_data"
        }
      ],
      "source": [
        "bagged_model = baseline_model.ensemble_model(tuned_model, \n",
        "                                             fold=10,\n",
        "                                             method=\"Bagging\",\n",
        "                                             choose_better=True,\n",
        "                                             optimize=\"RMSE\",\n",
        "                                             )"
      ]
    },
    {
      "cell_type": "markdown",
      "metadata": {},
      "source": [
        "The ensemble_model function is ensembling previously tuned model. It is optimizing for the RMSE metric (Root Mean Squared Error), running for 10 folds of cross-validation. The choose_better parameter ensures that if the ensemble model does not improve the RMSE by at least 0.01%, it will return the original, non-ensembled model.\n",
        "\n",
        "Looking at the results, the Mean RMSE for your bagged model is 529645.8759, with a standard deviation of 82253.7450. This means that, on average,the model's predictions are about 529645.8759 units away from the actual values. If we compare this with the Mean RMSE from the tuned model before bagging, which was 533609.1586, we can observe an improvement in the model's performance after bagging. Thus, ensemble learning through bagging has made the model more accurate in this case."
      ]
    },
    {
      "cell_type": "code",
      "execution_count": 20,
      "metadata": {},
      "outputs": [
        {
          "data": {
            "text/html": [
              "<style type=\"text/css\">\n",
              "</style>\n",
              "<table id=\"T_d9a92\">\n",
              "  <thead>\n",
              "    <tr>\n",
              "      <th class=\"blank level0\" >&nbsp;</th>\n",
              "      <th id=\"T_d9a92_level0_col0\" class=\"col_heading level0 col0\" >Model</th>\n",
              "      <th id=\"T_d9a92_level0_col1\" class=\"col_heading level0 col1\" >MAE</th>\n",
              "      <th id=\"T_d9a92_level0_col2\" class=\"col_heading level0 col2\" >MSE</th>\n",
              "      <th id=\"T_d9a92_level0_col3\" class=\"col_heading level0 col3\" >RMSE</th>\n",
              "      <th id=\"T_d9a92_level0_col4\" class=\"col_heading level0 col4\" >R2</th>\n",
              "      <th id=\"T_d9a92_level0_col5\" class=\"col_heading level0 col5\" >RMSLE</th>\n",
              "      <th id=\"T_d9a92_level0_col6\" class=\"col_heading level0 col6\" >MAPE</th>\n",
              "    </tr>\n",
              "  </thead>\n",
              "  <tbody>\n",
              "    <tr>\n",
              "      <th id=\"T_d9a92_level0_row0\" class=\"row_heading level0 row0\" >0</th>\n",
              "      <td id=\"T_d9a92_row0_col0\" class=\"data row0 col0\" >Bagging Regressor</td>\n",
              "      <td id=\"T_d9a92_row0_col1\" class=\"data row0 col1\" >261061.5572</td>\n",
              "      <td id=\"T_d9a92_row0_col2\" class=\"data row0 col2\" >305925391897.3850</td>\n",
              "      <td id=\"T_d9a92_row0_col3\" class=\"data row0 col3\" >553105.2268</td>\n",
              "      <td id=\"T_d9a92_row0_col4\" class=\"data row0 col4\" >0.7523</td>\n",
              "      <td id=\"T_d9a92_row0_col5\" class=\"data row0 col5\" >0.1908</td>\n",
              "      <td id=\"T_d9a92_row0_col6\" class=\"data row0 col6\" >0.1151</td>\n",
              "    </tr>\n",
              "  </tbody>\n",
              "</table>\n"
            ],
            "text/plain": [
              "<pandas.io.formats.style.Styler at 0x7feb387042e0>"
            ]
          },
          "metadata": {},
          "output_type": "display_data"
        }
      ],
      "source": [
        "baseline_model.predict_model(bagged_model);"
      ]
    },
    {
      "cell_type": "markdown",
      "metadata": {},
      "source": [
        "i am using the predict_model function to make predictions on the hold-out set using the trained bagged model. The hold-out set is a portion of the original dataset that was separated out during model training. It has not been seen by the model before, hence it simulates unseen or new data.\n",
        "\n",
        "Looking at your results, the RMSE for your bagged model on the hold-out set is 553,105.2268. If we compare this with the Mean RMSE from the cross-validated training, which was 529,645.8759, we can see that the model's performance is slightly worse on the unseen data. This is common as models tend to perform a bit worse on unseen data compared to the data they were trained on. However, the difference is not drastic, suggesting that the model has generalized well and is likely to perform similarly on other new, unseen data."
      ]
    },
    {
      "cell_type": "code",
      "execution_count": 21,
      "metadata": {},
      "outputs": [],
      "source": [
        "final_bagged_model = baseline_model.finalize_model(bagged_model)"
      ]
    },
    {
      "cell_type": "code",
      "execution_count": 22,
      "metadata": {},
      "outputs": [
        {
          "data": {
            "text/html": [],
            "text/plain": [
              "<IPython.core.display.HTML object>"
            ]
          },
          "metadata": {},
          "output_type": "display_data"
        },
        {
          "data": {
            "text/html": [
              "<div>\n",
              "<style scoped>\n",
              "    .dataframe tbody tr th:only-of-type {\n",
              "        vertical-align: middle;\n",
              "    }\n",
              "\n",
              "    .dataframe tbody tr th {\n",
              "        vertical-align: top;\n",
              "    }\n",
              "\n",
              "    .dataframe thead th {\n",
              "        text-align: right;\n",
              "    }\n",
              "</style>\n",
              "<table border=\"1\" class=\"dataframe\">\n",
              "  <thead>\n",
              "    <tr style=\"text-align: right;\">\n",
              "      <th></th>\n",
              "      <th>location</th>\n",
              "      <th>type</th>\n",
              "      <th>bedroom</th>\n",
              "      <th>bathroom</th>\n",
              "      <th>parking_space</th>\n",
              "      <th>geo_zone</th>\n",
              "      <th>prediction_label</th>\n",
              "    </tr>\n",
              "  </thead>\n",
              "  <tbody>\n",
              "    <tr>\n",
              "      <th>0</th>\n",
              "      <td>Kano</td>\n",
              "      <td>Penthouse</td>\n",
              "      <td>4</td>\n",
              "      <td>1</td>\n",
              "      <td>2</td>\n",
              "      <td>North_West</td>\n",
              "      <td>2.244872e+06</td>\n",
              "    </tr>\n",
              "    <tr>\n",
              "      <th>1</th>\n",
              "      <td>Adamawa</td>\n",
              "      <td>Apartment</td>\n",
              "      <td>2</td>\n",
              "      <td>2</td>\n",
              "      <td>4</td>\n",
              "      <td>North_East</td>\n",
              "      <td>1.027406e+06</td>\n",
              "    </tr>\n",
              "    <tr>\n",
              "      <th>2</th>\n",
              "      <td>Adamawa</td>\n",
              "      <td>Bungalow</td>\n",
              "      <td>2</td>\n",
              "      <td>7</td>\n",
              "      <td>2</td>\n",
              "      <td>North_East</td>\n",
              "      <td>1.219960e+06</td>\n",
              "    </tr>\n",
              "    <tr>\n",
              "      <th>3</th>\n",
              "      <td>Lagos</td>\n",
              "      <td>Mansion</td>\n",
              "      <td>9</td>\n",
              "      <td>5</td>\n",
              "      <td>2</td>\n",
              "      <td>South_West</td>\n",
              "      <td>1.134098e+07</td>\n",
              "    </tr>\n",
              "    <tr>\n",
              "      <th>4</th>\n",
              "      <td>Gombe</td>\n",
              "      <td>Semi-detached duplex</td>\n",
              "      <td>5</td>\n",
              "      <td>6</td>\n",
              "      <td>1</td>\n",
              "      <td>North_East</td>\n",
              "      <td>1.822272e+06</td>\n",
              "    </tr>\n",
              "  </tbody>\n",
              "</table>\n",
              "</div>"
            ],
            "text/plain": [
              "  location                  type  bedroom  bathroom  parking_space  \\\n",
              "0     Kano             Penthouse        4         1              2   \n",
              "1  Adamawa             Apartment        2         2              4   \n",
              "2  Adamawa              Bungalow        2         7              2   \n",
              "3    Lagos               Mansion        9         5              2   \n",
              "4    Gombe  Semi-detached duplex        5         6              1   \n",
              "\n",
              "     geo_zone  prediction_label  \n",
              "0  North_West      2.244872e+06  \n",
              "1  North_East      1.027406e+06  \n",
              "2  North_East      1.219960e+06  \n",
              "3  South_West      1.134098e+07  \n",
              "4  North_East      1.822272e+06  "
            ]
          },
          "execution_count": 22,
          "metadata": {},
          "output_type": "execute_result"
        }
      ],
      "source": [
        "# Prediction on Unseen Data\n",
        "predict_unseen_bagged_model = baseline_model.predict_model(final_bagged_model, data=test);\n",
        "predict_unseen_bagged_model.head()"
      ]
    },
    {
      "cell_type": "code",
      "execution_count": 23,
      "metadata": {},
      "outputs": [],
      "source": [
        "# Generating CSV for zindi Submissions \n",
        "sub = pd.DataFrame({\n",
        "        \"Id\": Sample_submission['ID'],\n",
        "        \"Price\": predict_unseen_bagged_model['prediction_label']\n",
        "    })\n",
        "\n",
        "sub.to_csv('submission9_bagged_model.csv', index=False)"
      ]
    },
    {
      "cell_type": "markdown",
      "metadata": {},
      "source": [
        "### Using blending method"
      ]
    },
    {
      "cell_type": "code",
      "execution_count": 24,
      "metadata": {
        "gather": {
          "logged": 1690575026172
        },
        "jupyter": {
          "outputs_hidden": false,
          "source_hidden": false
        },
        "nteract": {
          "transient": {
            "deleting": false
          }
        }
      },
      "outputs": [
        {
          "data": {
            "text/html": [
              "<div>\n",
              "<style scoped>\n",
              "    .dataframe tbody tr th:only-of-type {\n",
              "        vertical-align: middle;\n",
              "    }\n",
              "\n",
              "    .dataframe tbody tr th {\n",
              "        vertical-align: top;\n",
              "    }\n",
              "\n",
              "    .dataframe thead th {\n",
              "        text-align: right;\n",
              "    }\n",
              "</style>\n",
              "<table border=\"1\" class=\"dataframe\">\n",
              "  <thead>\n",
              "    <tr style=\"text-align: right;\">\n",
              "      <th></th>\n",
              "      <th></th>\n",
              "      <th></th>\n",
              "    </tr>\n",
              "    <tr>\n",
              "      <th></th>\n",
              "      <th></th>\n",
              "      <th></th>\n",
              "    </tr>\n",
              "  </thead>\n",
              "  <tbody>\n",
              "    <tr>\n",
              "      <th>Initiated</th>\n",
              "      <td>. . . . . . . . . . . . . . . . . .</td>\n",
              "      <td>22:31:17</td>\n",
              "    </tr>\n",
              "    <tr>\n",
              "      <th>Status</th>\n",
              "      <td>. . . . . . . . . . . . . . . . . .</td>\n",
              "      <td>Fitting 10 Folds</td>\n",
              "    </tr>\n",
              "    <tr>\n",
              "      <th>Estimator</th>\n",
              "      <td>. . . . . . . . . . . . . . . . . .</td>\n",
              "      <td>Voting Regressor</td>\n",
              "    </tr>\n",
              "  </tbody>\n",
              "</table>\n",
              "</div>"
            ],
            "text/plain": [
              "                                                                \n",
              "                                                                \n",
              "Initiated  . . . . . . . . . . . . . . . . . .          22:31:17\n",
              "Status     . . . . . . . . . . . . . . . . . .  Fitting 10 Folds\n",
              "Estimator  . . . . . . . . . . . . . . . . . .  Voting Regressor"
            ]
          },
          "metadata": {},
          "output_type": "display_data"
        },
        {
          "data": {
            "text/html": [
              "<style type=\"text/css\">\n",
              "#T_4d4d8_row10_col0, #T_4d4d8_row10_col1, #T_4d4d8_row10_col2, #T_4d4d8_row10_col3, #T_4d4d8_row10_col4, #T_4d4d8_row10_col5 {\n",
              "  background: yellow;\n",
              "}\n",
              "</style>\n",
              "<table id=\"T_4d4d8\">\n",
              "  <thead>\n",
              "    <tr>\n",
              "      <th class=\"blank level0\" >&nbsp;</th>\n",
              "      <th id=\"T_4d4d8_level0_col0\" class=\"col_heading level0 col0\" >MAE</th>\n",
              "      <th id=\"T_4d4d8_level0_col1\" class=\"col_heading level0 col1\" >MSE</th>\n",
              "      <th id=\"T_4d4d8_level0_col2\" class=\"col_heading level0 col2\" >RMSE</th>\n",
              "      <th id=\"T_4d4d8_level0_col3\" class=\"col_heading level0 col3\" >R2</th>\n",
              "      <th id=\"T_4d4d8_level0_col4\" class=\"col_heading level0 col4\" >RMSLE</th>\n",
              "      <th id=\"T_4d4d8_level0_col5\" class=\"col_heading level0 col5\" >MAPE</th>\n",
              "    </tr>\n",
              "    <tr>\n",
              "      <th class=\"index_name level0\" >Fold</th>\n",
              "      <th class=\"blank col0\" >&nbsp;</th>\n",
              "      <th class=\"blank col1\" >&nbsp;</th>\n",
              "      <th class=\"blank col2\" >&nbsp;</th>\n",
              "      <th class=\"blank col3\" >&nbsp;</th>\n",
              "      <th class=\"blank col4\" >&nbsp;</th>\n",
              "      <th class=\"blank col5\" >&nbsp;</th>\n",
              "    </tr>\n",
              "  </thead>\n",
              "  <tbody>\n",
              "    <tr>\n",
              "      <th id=\"T_4d4d8_level0_row0\" class=\"row_heading level0 row0\" >0</th>\n",
              "      <td id=\"T_4d4d8_row0_col0\" class=\"data row0 col0\" >266232.1978</td>\n",
              "      <td id=\"T_4d4d8_row0_col1\" class=\"data row0 col1\" >294398603553.3508</td>\n",
              "      <td id=\"T_4d4d8_row0_col2\" class=\"data row0 col2\" >542585.1118</td>\n",
              "      <td id=\"T_4d4d8_row0_col3\" class=\"data row0 col3\" >0.7712</td>\n",
              "      <td id=\"T_4d4d8_row0_col4\" class=\"data row0 col4\" >0.1866</td>\n",
              "      <td id=\"T_4d4d8_row0_col5\" class=\"data row0 col5\" >0.1204</td>\n",
              "    </tr>\n",
              "    <tr>\n",
              "      <th id=\"T_4d4d8_level0_row1\" class=\"row_heading level0 row1\" >1</th>\n",
              "      <td id=\"T_4d4d8_row1_col0\" class=\"data row1 col0\" >273457.3982</td>\n",
              "      <td id=\"T_4d4d8_row1_col1\" class=\"data row1 col1\" >371111732388.5713</td>\n",
              "      <td id=\"T_4d4d8_row1_col2\" class=\"data row1 col2\" >609189.4060</td>\n",
              "      <td id=\"T_4d4d8_row1_col3\" class=\"data row1 col3\" >0.7273</td>\n",
              "      <td id=\"T_4d4d8_row1_col4\" class=\"data row1 col4\" >0.1956</td>\n",
              "      <td id=\"T_4d4d8_row1_col5\" class=\"data row1 col5\" >0.1174</td>\n",
              "    </tr>\n",
              "    <tr>\n",
              "      <th id=\"T_4d4d8_level0_row2\" class=\"row_heading level0 row2\" >2</th>\n",
              "      <td id=\"T_4d4d8_row2_col0\" class=\"data row2 col0\" >240763.1448</td>\n",
              "      <td id=\"T_4d4d8_row2_col1\" class=\"data row2 col1\" >243947092723.9741</td>\n",
              "      <td id=\"T_4d4d8_row2_col2\" class=\"data row2 col2\" >493910.0047</td>\n",
              "      <td id=\"T_4d4d8_row2_col3\" class=\"data row2 col3\" >0.7732</td>\n",
              "      <td id=\"T_4d4d8_row2_col4\" class=\"data row2 col4\" >0.1762</td>\n",
              "      <td id=\"T_4d4d8_row2_col5\" class=\"data row2 col5\" >0.1067</td>\n",
              "    </tr>\n",
              "    <tr>\n",
              "      <th id=\"T_4d4d8_level0_row3\" class=\"row_heading level0 row3\" >3</th>\n",
              "      <td id=\"T_4d4d8_row3_col0\" class=\"data row3 col0\" >244978.1799</td>\n",
              "      <td id=\"T_4d4d8_row3_col1\" class=\"data row3 col1\" >177282299489.7691</td>\n",
              "      <td id=\"T_4d4d8_row3_col2\" class=\"data row3 col2\" >421049.0464</td>\n",
              "      <td id=\"T_4d4d8_row3_col3\" class=\"data row3 col3\" >0.8121</td>\n",
              "      <td id=\"T_4d4d8_row3_col4\" class=\"data row3 col4\" >0.1836</td>\n",
              "      <td id=\"T_4d4d8_row3_col5\" class=\"data row3 col5\" >0.1188</td>\n",
              "    </tr>\n",
              "    <tr>\n",
              "      <th id=\"T_4d4d8_level0_row4\" class=\"row_heading level0 row4\" >4</th>\n",
              "      <td id=\"T_4d4d8_row4_col0\" class=\"data row4 col0\" >274582.9546</td>\n",
              "      <td id=\"T_4d4d8_row4_col1\" class=\"data row4 col1\" >432014350643.8826</td>\n",
              "      <td id=\"T_4d4d8_row4_col2\" class=\"data row4 col2\" >657277.9858</td>\n",
              "      <td id=\"T_4d4d8_row4_col3\" class=\"data row4 col3\" >0.6807</td>\n",
              "      <td id=\"T_4d4d8_row4_col4\" class=\"data row4 col4\" >0.1960</td>\n",
              "      <td id=\"T_4d4d8_row4_col5\" class=\"data row4 col5\" >0.1172</td>\n",
              "    </tr>\n",
              "    <tr>\n",
              "      <th id=\"T_4d4d8_level0_row5\" class=\"row_heading level0 row5\" >5</th>\n",
              "      <td id=\"T_4d4d8_row5_col0\" class=\"data row5 col0\" >280739.1456</td>\n",
              "      <td id=\"T_4d4d8_row5_col1\" class=\"data row5 col1\" >421168432081.1003</td>\n",
              "      <td id=\"T_4d4d8_row5_col2\" class=\"data row5 col2\" >648974.9087</td>\n",
              "      <td id=\"T_4d4d8_row5_col3\" class=\"data row5 col3\" >0.6707</td>\n",
              "      <td id=\"T_4d4d8_row5_col4\" class=\"data row5 col4\" >0.2069</td>\n",
              "      <td id=\"T_4d4d8_row5_col5\" class=\"data row5 col5\" >0.1216</td>\n",
              "    </tr>\n",
              "    <tr>\n",
              "      <th id=\"T_4d4d8_level0_row6\" class=\"row_heading level0 row6\" >6</th>\n",
              "      <td id=\"T_4d4d8_row6_col0\" class=\"data row6 col0\" >247844.1100</td>\n",
              "      <td id=\"T_4d4d8_row6_col1\" class=\"data row6 col1\" >259595239706.5780</td>\n",
              "      <td id=\"T_4d4d8_row6_col2\" class=\"data row6 col2\" >509504.8966</td>\n",
              "      <td id=\"T_4d4d8_row6_col3\" class=\"data row6 col3\" >0.7593</td>\n",
              "      <td id=\"T_4d4d8_row6_col4\" class=\"data row6 col4\" >0.1831</td>\n",
              "      <td id=\"T_4d4d8_row6_col5\" class=\"data row6 col5\" >0.1096</td>\n",
              "    </tr>\n",
              "    <tr>\n",
              "      <th id=\"T_4d4d8_level0_row7\" class=\"row_heading level0 row7\" >7</th>\n",
              "      <td id=\"T_4d4d8_row7_col0\" class=\"data row7 col0\" >257798.3008</td>\n",
              "      <td id=\"T_4d4d8_row7_col1\" class=\"data row7 col1\" >277967774381.2416</td>\n",
              "      <td id=\"T_4d4d8_row7_col2\" class=\"data row7 col2\" >527226.4925</td>\n",
              "      <td id=\"T_4d4d8_row7_col3\" class=\"data row7 col3\" >0.7355</td>\n",
              "      <td id=\"T_4d4d8_row7_col4\" class=\"data row7 col4\" >0.1891</td>\n",
              "      <td id=\"T_4d4d8_row7_col5\" class=\"data row7 col5\" >0.1130</td>\n",
              "    </tr>\n",
              "    <tr>\n",
              "      <th id=\"T_4d4d8_level0_row8\" class=\"row_heading level0 row8\" >8</th>\n",
              "      <td id=\"T_4d4d8_row8_col0\" class=\"data row8 col0\" >225392.1807</td>\n",
              "      <td id=\"T_4d4d8_row8_col1\" class=\"data row8 col1\" >183717233183.8561</td>\n",
              "      <td id=\"T_4d4d8_row8_col2\" class=\"data row8 col2\" >428622.4833</td>\n",
              "      <td id=\"T_4d4d8_row8_col3\" class=\"data row8 col3\" >0.8121</td>\n",
              "      <td id=\"T_4d4d8_row8_col4\" class=\"data row8 col4\" >0.1707</td>\n",
              "      <td id=\"T_4d4d8_row8_col5\" class=\"data row8 col5\" >0.1064</td>\n",
              "    </tr>\n",
              "    <tr>\n",
              "      <th id=\"T_4d4d8_level0_row9\" class=\"row_heading level0 row9\" >9</th>\n",
              "      <td id=\"T_4d4d8_row9_col0\" class=\"data row9 col0\" >253626.8057</td>\n",
              "      <td id=\"T_4d4d8_row9_col1\" class=\"data row9 col1\" >209334761870.8971</td>\n",
              "      <td id=\"T_4d4d8_row9_col2\" class=\"data row9 col2\" >457531.1595</td>\n",
              "      <td id=\"T_4d4d8_row9_col3\" class=\"data row9 col3\" >0.8005</td>\n",
              "      <td id=\"T_4d4d8_row9_col4\" class=\"data row9 col4\" >0.1913</td>\n",
              "      <td id=\"T_4d4d8_row9_col5\" class=\"data row9 col5\" >0.1189</td>\n",
              "    </tr>\n",
              "    <tr>\n",
              "      <th id=\"T_4d4d8_level0_row10\" class=\"row_heading level0 row10\" >Mean</th>\n",
              "      <td id=\"T_4d4d8_row10_col0\" class=\"data row10 col0\" >256541.4418</td>\n",
              "      <td id=\"T_4d4d8_row10_col1\" class=\"data row10 col1\" >287053752002.3221</td>\n",
              "      <td id=\"T_4d4d8_row10_col2\" class=\"data row10 col2\" >529587.1495</td>\n",
              "      <td id=\"T_4d4d8_row10_col3\" class=\"data row10 col3\" >0.7543</td>\n",
              "      <td id=\"T_4d4d8_row10_col4\" class=\"data row10 col4\" >0.1879</td>\n",
              "      <td id=\"T_4d4d8_row10_col5\" class=\"data row10 col5\" >0.1150</td>\n",
              "    </tr>\n",
              "    <tr>\n",
              "      <th id=\"T_4d4d8_level0_row11\" class=\"row_heading level0 row11\" >Std</th>\n",
              "      <td id=\"T_4d4d8_row11_col0\" class=\"data row11 col0\" >16521.9367</td>\n",
              "      <td id=\"T_4d4d8_row11_col1\" class=\"data row11 col1\" >88081310036.9900</td>\n",
              "      <td id=\"T_4d4d8_row11_col2\" class=\"data row11 col2\" >81186.2246</td>\n",
              "      <td id=\"T_4d4d8_row11_col3\" class=\"data row11 col3\" >0.0479</td>\n",
              "      <td id=\"T_4d4d8_row11_col4\" class=\"data row11 col4\" >0.0099</td>\n",
              "      <td id=\"T_4d4d8_row11_col5\" class=\"data row11 col5\" >0.0054</td>\n",
              "    </tr>\n",
              "  </tbody>\n",
              "</table>\n"
            ],
            "text/plain": [
              "<pandas.io.formats.style.Styler at 0x7feb5004a5e0>"
            ]
          },
          "metadata": {},
          "output_type": "display_data"
        },
        {
          "data": {
            "application/vnd.jupyter.widget-view+json": {
              "model_id": "5b3eea716d054313a3a19bef0e9a860a",
              "version_major": 2,
              "version_minor": 0
            },
            "text/plain": [
              "Processing:   0%|          | 0/6 [00:00<?, ?it/s]"
            ]
          },
          "metadata": {},
          "output_type": "display_data"
        }
      ],
      "source": [
        "blended_model = baseline_model.blend_models(\n",
        "                                            estimator_list=[tuned_model, bagged_model],\n",
        "                                            fold=10,\n",
        "                                            optimize=\"RMSE\",\n",
        "                                            choose_better=True\n",
        "                                            )"
      ]
    },
    {
      "cell_type": "markdown",
      "metadata": {},
      "source": [
        "Looking at your results, the RMSE of the blended model during training (using cross-validation) is 529,587.1495, which is slightly better than the individual models."
      ]
    },
    {
      "cell_type": "code",
      "execution_count": 25,
      "metadata": {},
      "outputs": [
        {
          "data": {
            "text/html": [
              "<style type=\"text/css\">\n",
              "</style>\n",
              "<table id=\"T_50ddb\">\n",
              "  <thead>\n",
              "    <tr>\n",
              "      <th class=\"blank level0\" >&nbsp;</th>\n",
              "      <th id=\"T_50ddb_level0_col0\" class=\"col_heading level0 col0\" >Model</th>\n",
              "      <th id=\"T_50ddb_level0_col1\" class=\"col_heading level0 col1\" >MAE</th>\n",
              "      <th id=\"T_50ddb_level0_col2\" class=\"col_heading level0 col2\" >MSE</th>\n",
              "      <th id=\"T_50ddb_level0_col3\" class=\"col_heading level0 col3\" >RMSE</th>\n",
              "      <th id=\"T_50ddb_level0_col4\" class=\"col_heading level0 col4\" >R2</th>\n",
              "      <th id=\"T_50ddb_level0_col5\" class=\"col_heading level0 col5\" >RMSLE</th>\n",
              "      <th id=\"T_50ddb_level0_col6\" class=\"col_heading level0 col6\" >MAPE</th>\n",
              "    </tr>\n",
              "  </thead>\n",
              "  <tbody>\n",
              "    <tr>\n",
              "      <th id=\"T_50ddb_level0_row0\" class=\"row_heading level0 row0\" >0</th>\n",
              "      <td id=\"T_50ddb_row0_col0\" class=\"data row0 col0\" >Voting Regressor</td>\n",
              "      <td id=\"T_50ddb_row0_col1\" class=\"data row0 col1\" >263871.3660</td>\n",
              "      <td id=\"T_50ddb_row0_col2\" class=\"data row0 col2\" >308445565597.4942</td>\n",
              "      <td id=\"T_50ddb_row0_col3\" class=\"data row0 col3\" >555378.7587</td>\n",
              "      <td id=\"T_50ddb_row0_col4\" class=\"data row0 col4\" >0.7503</td>\n",
              "      <td id=\"T_50ddb_row0_col5\" class=\"data row0 col5\" >0.1910</td>\n",
              "      <td id=\"T_50ddb_row0_col6\" class=\"data row0 col6\" >0.1160</td>\n",
              "    </tr>\n",
              "  </tbody>\n",
              "</table>\n"
            ],
            "text/plain": [
              "<pandas.io.formats.style.Styler at 0x7feb521b5fa0>"
            ]
          },
          "metadata": {},
          "output_type": "display_data"
        }
      ],
      "source": [
        "baseline_model.predict_model(blended_model);"
      ]
    },
    {
      "cell_type": "markdown",
      "metadata": {},
      "source": [
        "Then, when testing the blended model on unseen data, the RMSE is 555,378.7587."
      ]
    },
    {
      "cell_type": "code",
      "execution_count": 37,
      "metadata": {},
      "outputs": [],
      "source": [
        "final_blended_model = baseline_model.finalize_model(blended_model)"
      ]
    },
    {
      "cell_type": "code",
      "execution_count": 38,
      "metadata": {},
      "outputs": [
        {
          "data": {
            "text/html": [],
            "text/plain": [
              "<IPython.core.display.HTML object>"
            ]
          },
          "metadata": {},
          "output_type": "display_data"
        },
        {
          "data": {
            "text/html": [
              "<div>\n",
              "<style scoped>\n",
              "    .dataframe tbody tr th:only-of-type {\n",
              "        vertical-align: middle;\n",
              "    }\n",
              "\n",
              "    .dataframe tbody tr th {\n",
              "        vertical-align: top;\n",
              "    }\n",
              "\n",
              "    .dataframe thead th {\n",
              "        text-align: right;\n",
              "    }\n",
              "</style>\n",
              "<table border=\"1\" class=\"dataframe\">\n",
              "  <thead>\n",
              "    <tr style=\"text-align: right;\">\n",
              "      <th></th>\n",
              "      <th>location</th>\n",
              "      <th>type</th>\n",
              "      <th>bedroom</th>\n",
              "      <th>bathroom</th>\n",
              "      <th>parking_space</th>\n",
              "      <th>geo_zone</th>\n",
              "      <th>prediction_label</th>\n",
              "    </tr>\n",
              "  </thead>\n",
              "  <tbody>\n",
              "    <tr>\n",
              "      <th>0</th>\n",
              "      <td>Kano</td>\n",
              "      <td>Penthouse</td>\n",
              "      <td>4</td>\n",
              "      <td>1</td>\n",
              "      <td>2</td>\n",
              "      <td>2</td>\n",
              "      <td>2.295154e+06</td>\n",
              "    </tr>\n",
              "    <tr>\n",
              "      <th>1</th>\n",
              "      <td>Adamawa</td>\n",
              "      <td>Apartment</td>\n",
              "      <td>2</td>\n",
              "      <td>2</td>\n",
              "      <td>4</td>\n",
              "      <td>1</td>\n",
              "      <td>9.937285e+05</td>\n",
              "    </tr>\n",
              "    <tr>\n",
              "      <th>2</th>\n",
              "      <td>Adamawa</td>\n",
              "      <td>Bungalow</td>\n",
              "      <td>2</td>\n",
              "      <td>7</td>\n",
              "      <td>2</td>\n",
              "      <td>1</td>\n",
              "      <td>1.233363e+06</td>\n",
              "    </tr>\n",
              "    <tr>\n",
              "      <th>3</th>\n",
              "      <td>Lagos</td>\n",
              "      <td>Mansion</td>\n",
              "      <td>9</td>\n",
              "      <td>5</td>\n",
              "      <td>2</td>\n",
              "      <td>5</td>\n",
              "      <td>1.041234e+07</td>\n",
              "    </tr>\n",
              "    <tr>\n",
              "      <th>4</th>\n",
              "      <td>Gombe</td>\n",
              "      <td>Semi-detached duplex</td>\n",
              "      <td>5</td>\n",
              "      <td>6</td>\n",
              "      <td>1</td>\n",
              "      <td>1</td>\n",
              "      <td>1.801237e+06</td>\n",
              "    </tr>\n",
              "  </tbody>\n",
              "</table>\n",
              "</div>"
            ],
            "text/plain": [
              "  location                  type  bedroom  bathroom  parking_space  geo_zone  \\\n",
              "0     Kano             Penthouse        4         1              2         2   \n",
              "1  Adamawa             Apartment        2         2              4         1   \n",
              "2  Adamawa              Bungalow        2         7              2         1   \n",
              "3    Lagos               Mansion        9         5              2         5   \n",
              "4    Gombe  Semi-detached duplex        5         6              1         1   \n",
              "\n",
              "   prediction_label  \n",
              "0      2.295154e+06  \n",
              "1      9.937285e+05  \n",
              "2      1.233363e+06  \n",
              "3      1.041234e+07  \n",
              "4      1.801237e+06  "
            ]
          },
          "execution_count": 38,
          "metadata": {},
          "output_type": "execute_result"
        }
      ],
      "source": [
        "# Prediction on Unseen Data\n",
        "predict_unseen_blended_model = baseline_model.predict_model(final_blended_model, data=test);\n",
        "predict_unseen_blended_model.head()"
      ]
    },
    {
      "cell_type": "code",
      "execution_count": 39,
      "metadata": {},
      "outputs": [],
      "source": [
        "# Generating CSV for zindi Submissions \n",
        "sub = pd.DataFrame({\n",
        "        \"Id\": Sample_submission['ID'],\n",
        "        \"Price\": predict_unseen_blended_model['prediction_label']\n",
        "    })\n",
        "\n",
        "sub.to_csv('submission7_blended_model.csv', index=False)"
      ]
    }
  ],
  "metadata": {
    "kernel_info": {
      "name": "pycaret"
    },
    "kernelspec": {
      "display_name": "pycaret",
      "language": "python",
      "name": "python3"
    },
    "language_info": {
      "codemirror_mode": {
        "name": "ipython",
        "version": 3
      },
      "file_extension": ".py",
      "mimetype": "text/x-python",
      "name": "python",
      "nbconvert_exporter": "python",
      "pygments_lexer": "ipython3",
      "version": "3.8.13"
    },
    "microsoft": {
      "host": {
        "AzureML": {
          "notebookHasBeenCompleted": true
        }
      },
      "ms_spell_check": {
        "ms_spell_check_language": "en"
      }
    },
    "nteract": {
      "version": "nteract-front-end@1.0.0"
    },
    "orig_nbformat": 4
  },
  "nbformat": 4,
  "nbformat_minor": 2
}
