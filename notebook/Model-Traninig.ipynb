{
 "cells": [
  {
   "cell_type": "markdown",
   "metadata": {},
   "source": [
    "### Importing relevant libraries "
   ]
  },
  {
   "cell_type": "code",
   "execution_count": 2,
   "metadata": {},
   "outputs": [],
   "source": [
    "import numpy as np\n",
    "import pandas as pd\n",
    "import matplotlib as mpl\n",
    "import pandas as pd\n",
    "import numpy as np\n",
    "import matplotlib.pyplot as plt\n",
    "import seaborn as sns\n",
    "from IPython.display import display\n",
    "import warnings\n",
    "import missingno as msno\n",
    "from pycaret.regression import RegressionExperiment\n",
    "warnings.filterwarnings(\"ignore\")\n",
    "%matplotlib inline"
   ]
  },
  {
   "cell_type": "code",
   "execution_count": 3,
   "metadata": {},
   "outputs": [],
   "source": [
    "# importing datase5 for training\n",
    "train = pd.read_csv(\"../data/Housing_dataset_train.csv\")\n",
    "test = pd.read_csv('../data/Housing_dataset_test.csv')"
   ]
  },
  {
   "cell_type": "code",
   "execution_count": 4,
   "metadata": {},
   "outputs": [
    {
     "data": {
      "text/plain": [
       "((14000, 7), (6000, 6))"
      ]
     },
     "execution_count": 4,
     "metadata": {},
     "output_type": "execute_result"
    }
   ],
   "source": [
    "# check data shapes\n",
    "train.shape, test.shape"
   ]
  },
  {
   "cell_type": "code",
   "execution_count": 5,
   "metadata": {},
   "outputs": [
    {
     "data": {
      "text/html": [
       "<div>\n",
       "<style scoped>\n",
       "    .dataframe tbody tr th:only-of-type {\n",
       "        vertical-align: middle;\n",
       "    }\n",
       "\n",
       "    .dataframe tbody tr th {\n",
       "        vertical-align: top;\n",
       "    }\n",
       "\n",
       "    .dataframe thead th {\n",
       "        text-align: right;\n",
       "    }\n",
       "</style>\n",
       "<table border=\"1\" class=\"dataframe\">\n",
       "  <thead>\n",
       "    <tr style=\"text-align: right;\">\n",
       "      <th></th>\n",
       "      <th>ID</th>\n",
       "      <th>loc</th>\n",
       "      <th>title</th>\n",
       "      <th>bedroom</th>\n",
       "      <th>bathroom</th>\n",
       "      <th>parking_space</th>\n",
       "      <th>price</th>\n",
       "    </tr>\n",
       "  </thead>\n",
       "  <tbody>\n",
       "    <tr>\n",
       "      <th>0</th>\n",
       "      <td>3583</td>\n",
       "      <td>Katsina</td>\n",
       "      <td>Semi-detached duplex</td>\n",
       "      <td>2.0</td>\n",
       "      <td>2.0</td>\n",
       "      <td>1.0</td>\n",
       "      <td>1149999.565</td>\n",
       "    </tr>\n",
       "    <tr>\n",
       "      <th>1</th>\n",
       "      <td>2748</td>\n",
       "      <td>Ondo</td>\n",
       "      <td>Apartment</td>\n",
       "      <td>NaN</td>\n",
       "      <td>2.0</td>\n",
       "      <td>4.0</td>\n",
       "      <td>1672416.689</td>\n",
       "    </tr>\n",
       "    <tr>\n",
       "      <th>2</th>\n",
       "      <td>9261</td>\n",
       "      <td>Ekiti</td>\n",
       "      <td>NaN</td>\n",
       "      <td>7.0</td>\n",
       "      <td>5.0</td>\n",
       "      <td>NaN</td>\n",
       "      <td>3364799.814</td>\n",
       "    </tr>\n",
       "    <tr>\n",
       "      <th>3</th>\n",
       "      <td>2224</td>\n",
       "      <td>Anambra</td>\n",
       "      <td>Detached duplex</td>\n",
       "      <td>5.0</td>\n",
       "      <td>2.0</td>\n",
       "      <td>4.0</td>\n",
       "      <td>2410306.756</td>\n",
       "    </tr>\n",
       "    <tr>\n",
       "      <th>4</th>\n",
       "      <td>10300</td>\n",
       "      <td>Kogi</td>\n",
       "      <td>Terrace duplex</td>\n",
       "      <td>NaN</td>\n",
       "      <td>5.0</td>\n",
       "      <td>6.0</td>\n",
       "      <td>2600700.898</td>\n",
       "    </tr>\n",
       "  </tbody>\n",
       "</table>\n",
       "</div>"
      ],
      "text/plain": [
       "      ID      loc                 title  bedroom  bathroom  parking_space  \\\n",
       "0   3583  Katsina  Semi-detached duplex      2.0       2.0            1.0   \n",
       "1   2748     Ondo             Apartment      NaN       2.0            4.0   \n",
       "2   9261    Ekiti                   NaN      7.0       5.0            NaN   \n",
       "3   2224  Anambra       Detached duplex      5.0       2.0            4.0   \n",
       "4  10300     Kogi        Terrace duplex      NaN       5.0            6.0   \n",
       "\n",
       "         price  \n",
       "0  1149999.565  \n",
       "1  1672416.689  \n",
       "2  3364799.814  \n",
       "3  2410306.756  \n",
       "4  2600700.898  "
      ]
     },
     "execution_count": 5,
     "metadata": {},
     "output_type": "execute_result"
    }
   ],
   "source": [
    "# Preview train\n",
    "train.head()"
   ]
  },
  {
   "cell_type": "markdown",
   "metadata": {},
   "source": [
    "- From the preview above we can see we have NAN values we would need to treat this as we go further in our training"
   ]
  },
  {
   "cell_type": "code",
   "execution_count": 6,
   "metadata": {},
   "outputs": [
    {
     "data": {
      "text/html": [
       "<div>\n",
       "<style scoped>\n",
       "    .dataframe tbody tr th:only-of-type {\n",
       "        vertical-align: middle;\n",
       "    }\n",
       "\n",
       "    .dataframe tbody tr th {\n",
       "        vertical-align: top;\n",
       "    }\n",
       "\n",
       "    .dataframe thead th {\n",
       "        text-align: right;\n",
       "    }\n",
       "</style>\n",
       "<table border=\"1\" class=\"dataframe\">\n",
       "  <thead>\n",
       "    <tr style=\"text-align: right;\">\n",
       "      <th></th>\n",
       "      <th>ID</th>\n",
       "      <th>loc</th>\n",
       "      <th>title</th>\n",
       "      <th>bedroom</th>\n",
       "      <th>bathroom</th>\n",
       "      <th>parking_space</th>\n",
       "    </tr>\n",
       "  </thead>\n",
       "  <tbody>\n",
       "    <tr>\n",
       "      <th>0</th>\n",
       "      <td>845</td>\n",
       "      <td>Kano</td>\n",
       "      <td>Penthouse</td>\n",
       "      <td>4</td>\n",
       "      <td>1</td>\n",
       "      <td>2</td>\n",
       "    </tr>\n",
       "    <tr>\n",
       "      <th>1</th>\n",
       "      <td>1924</td>\n",
       "      <td>Adamawa</td>\n",
       "      <td>Apartment</td>\n",
       "      <td>2</td>\n",
       "      <td>2</td>\n",
       "      <td>4</td>\n",
       "    </tr>\n",
       "    <tr>\n",
       "      <th>2</th>\n",
       "      <td>10718</td>\n",
       "      <td>Adamawa</td>\n",
       "      <td>Bungalow</td>\n",
       "      <td>2</td>\n",
       "      <td>7</td>\n",
       "      <td>2</td>\n",
       "    </tr>\n",
       "    <tr>\n",
       "      <th>3</th>\n",
       "      <td>12076</td>\n",
       "      <td>Lagos</td>\n",
       "      <td>Mansion</td>\n",
       "      <td>9</td>\n",
       "      <td>5</td>\n",
       "      <td>2</td>\n",
       "    </tr>\n",
       "    <tr>\n",
       "      <th>4</th>\n",
       "      <td>12254</td>\n",
       "      <td>Gombe</td>\n",
       "      <td>Semi-detached duplex</td>\n",
       "      <td>5</td>\n",
       "      <td>6</td>\n",
       "      <td>1</td>\n",
       "    </tr>\n",
       "  </tbody>\n",
       "</table>\n",
       "</div>"
      ],
      "text/plain": [
       "      ID      loc                 title  bedroom  bathroom  parking_space\n",
       "0    845     Kano             Penthouse        4         1              2\n",
       "1   1924  Adamawa             Apartment        2         2              4\n",
       "2  10718  Adamawa              Bungalow        2         7              2\n",
       "3  12076    Lagos               Mansion        9         5              2\n",
       "4  12254    Gombe  Semi-detached duplex        5         6              1"
      ]
     },
     "execution_count": 6,
     "metadata": {},
     "output_type": "execute_result"
    }
   ],
   "source": [
    "# Preview train\n",
    "test.head()"
   ]
  },
  {
   "cell_type": "code",
   "execution_count": 7,
   "metadata": {},
   "outputs": [
    {
     "name": "stdout",
     "output_type": "stream",
     "text": [
      "<class 'pandas.core.frame.DataFrame'>\n",
      "RangeIndex: 14000 entries, 0 to 13999\n",
      "Data columns (total 7 columns):\n",
      " #   Column         Non-Null Count  Dtype  \n",
      "---  ------         --------------  -----  \n",
      " 0   ID             14000 non-null  int64  \n",
      " 1   loc            12187 non-null  object \n",
      " 2   title          12278 non-null  object \n",
      " 3   bedroom        12201 non-null  float64\n",
      " 4   bathroom       12195 non-null  float64\n",
      " 5   parking_space  12189 non-null  float64\n",
      " 6   price          14000 non-null  float64\n",
      "dtypes: float64(4), int64(1), object(2)\n",
      "memory usage: 765.8+ KB\n"
     ]
    }
   ],
   "source": [
    "# Describe the data\n",
    "train.info()"
   ]
  },
  {
   "cell_type": "code",
   "execution_count": 8,
   "metadata": {},
   "outputs": [
    {
     "data": {
      "text/plain": [
       "ID               0.000000\n",
       "loc              0.129500\n",
       "title            0.123000\n",
       "bedroom          0.128500\n",
       "bathroom         0.128929\n",
       "parking_space    0.129357\n",
       "price            0.000000\n",
       "dtype: float64"
      ]
     },
     "execution_count": 8,
     "metadata": {},
     "output_type": "execute_result"
    }
   ],
   "source": [
    "# percentage of missing values each feature has..\n",
    "miss_percentage_train = train.isnull().sum()/train.shape[0]\n",
    "miss_percentage_train"
   ]
  },
  {
   "cell_type": "code",
   "execution_count": 9,
   "metadata": {},
   "outputs": [
    {
     "data": {
      "text/plain": [
       "ID               0.0\n",
       "loc              0.0\n",
       "title            0.0\n",
       "bedroom          0.0\n",
       "bathroom         0.0\n",
       "parking_space    0.0\n",
       "dtype: float64"
      ]
     },
     "execution_count": 9,
     "metadata": {},
     "output_type": "execute_result"
    }
   ],
   "source": [
    "# percentage of missing values each feature has..\n",
    "miss_percentag_test = test.isnull().sum()/test.shape[0]\n",
    "miss_percentag_test"
   ]
  },
  {
   "cell_type": "code",
   "execution_count": 10,
   "metadata": {},
   "outputs": [
    {
     "name": "stdout",
     "output_type": "stream",
     "text": [
      "categorical values: Index(['loc', 'title'], dtype='object')\n",
      "Numerical values: Index(['ID', 'bedroom', 'bathroom', 'parking_space', 'price'], dtype='object')\n"
     ]
    }
   ],
   "source": [
    "# which features are categorical?\n",
    "cat_col = train.select_dtypes(include=[np.object]).columns\n",
    "# which features are numerical?\n",
    "num_col = train.select_dtypes(include=[np.number]).columns\n",
    "print(\"categorical values:\",cat_col )\n",
    "print(\"Numerical values:\",num_col )"
   ]
  },
  {
   "cell_type": "markdown",
   "metadata": {},
   "source": [
    "- We would need to make 'loc', 'title' more descriptive and remove 'ID'"
   ]
  },
  {
   "cell_type": "code",
   "execution_count": 12,
   "metadata": {},
   "outputs": [
    {
     "name": "stdout",
     "output_type": "stream",
     "text": [
      "loc\n",
      "['Katsina' 'Ondo' 'Ekiti' 'Anambra' 'Kogi' 'Borno' 'Kwara' 'Osun' 'Kaduna'\n",
      " 'Ogun' 'Bayelsa' nan 'Abia' 'Rivers' 'Taraba' 'Ebonyi' 'Kebbi' 'Enugu'\n",
      " 'Edo' 'Nasarawa' 'Delta' 'Kano' 'Yobe' 'Benue' 'Bauchi' 'Cross River'\n",
      " 'Niger' 'Adamawa' 'Plateau' 'Imo' 'Oyo' 'Zamfara' 'Sokoto' 'Jigawa'\n",
      " 'Gombe' 'Akwa Ibom' 'Lagos']\n",
      "36\n",
      "\n",
      "title\n",
      "['Semi-detached duplex' 'Apartment' nan 'Detached duplex' 'Terrace duplex'\n",
      " 'Mansion' 'Bungalow' 'Penthouse' 'Townhouse' 'Flat' 'Cottage']\n",
      "10\n",
      "\n",
      "bedroom\n",
      "[ 2. nan  7.  5.  3.  1.  4.  6.  9.  8.]\n",
      "9\n",
      "\n",
      "bathroom\n",
      "[ 2.  5.  1.  4.  3. nan  7.  6.]\n",
      "7\n",
      "\n",
      "parking_space\n",
      "[ 1.  4. nan  6.  3.  5.  2.]\n",
      "6\n",
      "\n",
      "price\n",
      "[1149999.565 1672416.689 3364799.814 ... 1508351.845 2458443.818\n",
      " 3348918.718]\n",
      "10727\n",
      "\n"
     ]
    }
   ],
   "source": [
    "# Checking for unique values \n",
    "col=['loc', 'title', 'bedroom', 'bathroom', 'parking_space', 'price']\n",
    "# Remaining columns are having values like 'yes' and 'no'\n",
    "for i in col:\n",
    "    print(i)\n",
    "    print(train[i].unique())\n",
    "    print(train[i].nunique())\n",
    "    print()"
   ]
  },
  {
   "cell_type": "markdown",
   "metadata": {},
   "source": [
    "### DATA PREPROCESSING..."
   ]
  },
  {
   "cell_type": "code",
   "execution_count": 13,
   "metadata": {},
   "outputs": [
    {
     "name": "stdout",
     "output_type": "stream",
     "text": [
      "columns after dropping ID (Train dataset) Index(['loc', 'title', 'bedroom', 'bathroom', 'parking_space', 'price'], dtype='object')\n",
      "columns after dropping ID (Test dataset) Index(['loc', 'title', 'bedroom', 'bathroom', 'parking_space'], dtype='object')\n"
     ]
    }
   ],
   "source": [
    "# droping ID columns from the dataframe\n",
    "train.drop([\"ID\"], 1, inplace = True)\n",
    "test.drop([\"ID\"], 1, inplace = True)\n",
    "print(\"columns after dropping ID (Train dataset)\",train.columns)\n",
    "print(\"columns after dropping ID (Test dataset)\",test.columns)"
   ]
  },
  {
   "cell_type": "code",
   "execution_count": 14,
   "metadata": {},
   "outputs": [
    {
     "name": "stdout",
     "output_type": "stream",
     "text": [
      "train Index(['location', 'type', 'bedroom', 'bathroom', 'parking_space', 'price'], dtype='object')\n",
      "test Index(['location', 'type', 'bedroom', 'bathroom', 'parking_space'], dtype='object')\n"
     ]
    }
   ],
   "source": [
    "# making 'loc' and 'title' columns more descriptive\n",
    "train = train.rename(columns={'loc': 'location', 'title': 'type'})\n",
    "test= test.rename(columns={'loc': 'location', 'title': 'type'})\n",
    "print(\"train\",train.columns)\n",
    "print(\"test\",test.columns)"
   ]
  },
  {
   "cell_type": "code",
   "execution_count": 15,
   "metadata": {},
   "outputs": [
    {
     "data": {
      "text/html": [
       "<div>\n",
       "<style scoped>\n",
       "    .dataframe tbody tr th:only-of-type {\n",
       "        vertical-align: middle;\n",
       "    }\n",
       "\n",
       "    .dataframe tbody tr th {\n",
       "        vertical-align: top;\n",
       "    }\n",
       "\n",
       "    .dataframe thead th {\n",
       "        text-align: right;\n",
       "    }\n",
       "</style>\n",
       "<table border=\"1\" class=\"dataframe\">\n",
       "  <thead>\n",
       "    <tr style=\"text-align: right;\">\n",
       "      <th></th>\n",
       "      <th>location</th>\n",
       "      <th>type</th>\n",
       "      <th>bedroom</th>\n",
       "      <th>bathroom</th>\n",
       "      <th>parking_space</th>\n",
       "      <th>price</th>\n",
       "    </tr>\n",
       "  </thead>\n",
       "  <tbody>\n",
       "    <tr>\n",
       "      <th>0</th>\n",
       "      <td>Katsina</td>\n",
       "      <td>Semi-detached duplex</td>\n",
       "      <td>2.0</td>\n",
       "      <td>2.0</td>\n",
       "      <td>1.0</td>\n",
       "      <td>1149999.565</td>\n",
       "    </tr>\n",
       "    <tr>\n",
       "      <th>1</th>\n",
       "      <td>Ondo</td>\n",
       "      <td>Apartment</td>\n",
       "      <td>4.0</td>\n",
       "      <td>2.0</td>\n",
       "      <td>4.0</td>\n",
       "      <td>1672416.689</td>\n",
       "    </tr>\n",
       "    <tr>\n",
       "      <th>2</th>\n",
       "      <td>Ekiti</td>\n",
       "      <td>Unknown</td>\n",
       "      <td>7.0</td>\n",
       "      <td>5.0</td>\n",
       "      <td>3.0</td>\n",
       "      <td>3364799.814</td>\n",
       "    </tr>\n",
       "    <tr>\n",
       "      <th>3</th>\n",
       "      <td>Anambra</td>\n",
       "      <td>Detached duplex</td>\n",
       "      <td>5.0</td>\n",
       "      <td>2.0</td>\n",
       "      <td>4.0</td>\n",
       "      <td>2410306.756</td>\n",
       "    </tr>\n",
       "    <tr>\n",
       "      <th>4</th>\n",
       "      <td>Kogi</td>\n",
       "      <td>Terrace duplex</td>\n",
       "      <td>4.0</td>\n",
       "      <td>5.0</td>\n",
       "      <td>6.0</td>\n",
       "      <td>2600700.898</td>\n",
       "    </tr>\n",
       "  </tbody>\n",
       "</table>\n",
       "</div>"
      ],
      "text/plain": [
       "  location                  type  bedroom  bathroom  parking_space  \\\n",
       "0  Katsina  Semi-detached duplex      2.0       2.0            1.0   \n",
       "1     Ondo             Apartment      4.0       2.0            4.0   \n",
       "2    Ekiti               Unknown      7.0       5.0            3.0   \n",
       "3  Anambra       Detached duplex      5.0       2.0            4.0   \n",
       "4     Kogi        Terrace duplex      4.0       5.0            6.0   \n",
       "\n",
       "         price  \n",
       "0  1149999.565  \n",
       "1  1672416.689  \n",
       "2  3364799.814  \n",
       "3  2410306.756  \n",
       "4  2600700.898  "
      ]
     },
     "execution_count": 15,
     "metadata": {},
     "output_type": "execute_result"
    }
   ],
   "source": [
    "# Using pandas DataFrame `fillna()` function to fill NaN values\n",
    "\n",
    "# Filling categorical variables with 'Unknown'\n",
    "train['location'] = train['location'].fillna('Unknown')\n",
    "train['type'] = train['type'].fillna('Unknown')\n",
    "\n",
    "# Filling numerical variables with median\n",
    "for column in ['bedroom', 'bathroom', 'parking_space']:\n",
    "    median_value = train[column].median()\n",
    "    train[column] = train[column].fillna(median_value)\n",
    "\n",
    "train.head()"
   ]
  },
  {
   "cell_type": "code",
   "execution_count": 16,
   "metadata": {},
   "outputs": [
    {
     "data": {
      "text/html": [
       "<div>\n",
       "<style scoped>\n",
       "    .dataframe tbody tr th:only-of-type {\n",
       "        vertical-align: middle;\n",
       "    }\n",
       "\n",
       "    .dataframe tbody tr th {\n",
       "        vertical-align: top;\n",
       "    }\n",
       "\n",
       "    .dataframe thead th {\n",
       "        text-align: right;\n",
       "    }\n",
       "</style>\n",
       "<table border=\"1\" class=\"dataframe\">\n",
       "  <thead>\n",
       "    <tr style=\"text-align: right;\">\n",
       "      <th></th>\n",
       "      <th>bedroom</th>\n",
       "      <th>bathroom</th>\n",
       "      <th>parking_space</th>\n",
       "      <th>price</th>\n",
       "      <th>location_Abia</th>\n",
       "      <th>location_Adamawa</th>\n",
       "      <th>location_Akwa Ibom</th>\n",
       "      <th>location_Anambra</th>\n",
       "      <th>location_Bauchi</th>\n",
       "      <th>location_Bayelsa</th>\n",
       "      <th>...</th>\n",
       "      <th>type_Bungalow</th>\n",
       "      <th>type_Cottage</th>\n",
       "      <th>type_Detached duplex</th>\n",
       "      <th>type_Flat</th>\n",
       "      <th>type_Mansion</th>\n",
       "      <th>type_Penthouse</th>\n",
       "      <th>type_Semi-detached duplex</th>\n",
       "      <th>type_Terrace duplex</th>\n",
       "      <th>type_Townhouse</th>\n",
       "      <th>type_Unknown</th>\n",
       "    </tr>\n",
       "  </thead>\n",
       "  <tbody>\n",
       "    <tr>\n",
       "      <th>0</th>\n",
       "      <td>2.0</td>\n",
       "      <td>2.0</td>\n",
       "      <td>1.0</td>\n",
       "      <td>1149999.565</td>\n",
       "      <td>0</td>\n",
       "      <td>0</td>\n",
       "      <td>0</td>\n",
       "      <td>0</td>\n",
       "      <td>0</td>\n",
       "      <td>0</td>\n",
       "      <td>...</td>\n",
       "      <td>0</td>\n",
       "      <td>0</td>\n",
       "      <td>0</td>\n",
       "      <td>0</td>\n",
       "      <td>0</td>\n",
       "      <td>0</td>\n",
       "      <td>1</td>\n",
       "      <td>0</td>\n",
       "      <td>0</td>\n",
       "      <td>0</td>\n",
       "    </tr>\n",
       "    <tr>\n",
       "      <th>1</th>\n",
       "      <td>4.0</td>\n",
       "      <td>2.0</td>\n",
       "      <td>4.0</td>\n",
       "      <td>1672416.689</td>\n",
       "      <td>0</td>\n",
       "      <td>0</td>\n",
       "      <td>0</td>\n",
       "      <td>0</td>\n",
       "      <td>0</td>\n",
       "      <td>0</td>\n",
       "      <td>...</td>\n",
       "      <td>0</td>\n",
       "      <td>0</td>\n",
       "      <td>0</td>\n",
       "      <td>0</td>\n",
       "      <td>0</td>\n",
       "      <td>0</td>\n",
       "      <td>0</td>\n",
       "      <td>0</td>\n",
       "      <td>0</td>\n",
       "      <td>0</td>\n",
       "    </tr>\n",
       "    <tr>\n",
       "      <th>2</th>\n",
       "      <td>7.0</td>\n",
       "      <td>5.0</td>\n",
       "      <td>3.0</td>\n",
       "      <td>3364799.814</td>\n",
       "      <td>0</td>\n",
       "      <td>0</td>\n",
       "      <td>0</td>\n",
       "      <td>0</td>\n",
       "      <td>0</td>\n",
       "      <td>0</td>\n",
       "      <td>...</td>\n",
       "      <td>0</td>\n",
       "      <td>0</td>\n",
       "      <td>0</td>\n",
       "      <td>0</td>\n",
       "      <td>0</td>\n",
       "      <td>0</td>\n",
       "      <td>0</td>\n",
       "      <td>0</td>\n",
       "      <td>0</td>\n",
       "      <td>1</td>\n",
       "    </tr>\n",
       "    <tr>\n",
       "      <th>3</th>\n",
       "      <td>5.0</td>\n",
       "      <td>2.0</td>\n",
       "      <td>4.0</td>\n",
       "      <td>2410306.756</td>\n",
       "      <td>0</td>\n",
       "      <td>0</td>\n",
       "      <td>0</td>\n",
       "      <td>1</td>\n",
       "      <td>0</td>\n",
       "      <td>0</td>\n",
       "      <td>...</td>\n",
       "      <td>0</td>\n",
       "      <td>0</td>\n",
       "      <td>1</td>\n",
       "      <td>0</td>\n",
       "      <td>0</td>\n",
       "      <td>0</td>\n",
       "      <td>0</td>\n",
       "      <td>0</td>\n",
       "      <td>0</td>\n",
       "      <td>0</td>\n",
       "    </tr>\n",
       "    <tr>\n",
       "      <th>4</th>\n",
       "      <td>4.0</td>\n",
       "      <td>5.0</td>\n",
       "      <td>6.0</td>\n",
       "      <td>2600700.898</td>\n",
       "      <td>0</td>\n",
       "      <td>0</td>\n",
       "      <td>0</td>\n",
       "      <td>0</td>\n",
       "      <td>0</td>\n",
       "      <td>0</td>\n",
       "      <td>...</td>\n",
       "      <td>0</td>\n",
       "      <td>0</td>\n",
       "      <td>0</td>\n",
       "      <td>0</td>\n",
       "      <td>0</td>\n",
       "      <td>0</td>\n",
       "      <td>0</td>\n",
       "      <td>1</td>\n",
       "      <td>0</td>\n",
       "      <td>0</td>\n",
       "    </tr>\n",
       "  </tbody>\n",
       "</table>\n",
       "<p>5 rows × 52 columns</p>\n",
       "</div>"
      ],
      "text/plain": [
       "   bedroom  bathroom  parking_space        price  location_Abia  \\\n",
       "0      2.0       2.0            1.0  1149999.565              0   \n",
       "1      4.0       2.0            4.0  1672416.689              0   \n",
       "2      7.0       5.0            3.0  3364799.814              0   \n",
       "3      5.0       2.0            4.0  2410306.756              0   \n",
       "4      4.0       5.0            6.0  2600700.898              0   \n",
       "\n",
       "   location_Adamawa  location_Akwa Ibom  location_Anambra  location_Bauchi  \\\n",
       "0                 0                   0                 0                0   \n",
       "1                 0                   0                 0                0   \n",
       "2                 0                   0                 0                0   \n",
       "3                 0                   0                 1                0   \n",
       "4                 0                   0                 0                0   \n",
       "\n",
       "   location_Bayelsa  ...  type_Bungalow  type_Cottage  type_Detached duplex  \\\n",
       "0                 0  ...              0             0                     0   \n",
       "1                 0  ...              0             0                     0   \n",
       "2                 0  ...              0             0                     0   \n",
       "3                 0  ...              0             0                     1   \n",
       "4                 0  ...              0             0                     0   \n",
       "\n",
       "   type_Flat  type_Mansion  type_Penthouse  type_Semi-detached duplex  \\\n",
       "0          0             0               0                          1   \n",
       "1          0             0               0                          0   \n",
       "2          0             0               0                          0   \n",
       "3          0             0               0                          0   \n",
       "4          0             0               0                          0   \n",
       "\n",
       "   type_Terrace duplex  type_Townhouse  type_Unknown  \n",
       "0                    0               0             0  \n",
       "1                    0               0             0  \n",
       "2                    0               0             1  \n",
       "3                    0               0             0  \n",
       "4                    1               0             0  \n",
       "\n",
       "[5 rows x 52 columns]"
      ]
     },
     "execution_count": 16,
     "metadata": {},
     "output_type": "execute_result"
    }
   ],
   "source": [
    "# encoding categorically data with one-hot encoding \n",
    "train_encoded = pd.get_dummies(train, columns=['location', 'type'])\n",
    "test_encoded = pd.get_dummies(test, columns=['location', 'type'])\n",
    "train_encoded.head()"
   ]
  },
  {
   "cell_type": "markdown",
   "metadata": {},
   "source": [
    "### Model training"
   ]
  },
  {
   "cell_type": "code",
   "execution_count": 29,
   "metadata": {},
   "outputs": [
    {
     "data": {
      "text/html": [
       "<style type=\"text/css\">\n",
       "#T_c459e_row9_col1, #T_c459e_row15_col1, #T_c459e_row17_col1, #T_c459e_row22_col1 {\n",
       "  background-color: lightgreen;\n",
       "}\n",
       "</style>\n",
       "<table id=\"T_c459e\">\n",
       "  <thead>\n",
       "    <tr>\n",
       "      <th class=\"blank level0\" >&nbsp;</th>\n",
       "      <th id=\"T_c459e_level0_col0\" class=\"col_heading level0 col0\" >Description</th>\n",
       "      <th id=\"T_c459e_level0_col1\" class=\"col_heading level0 col1\" >Value</th>\n",
       "    </tr>\n",
       "  </thead>\n",
       "  <tbody>\n",
       "    <tr>\n",
       "      <th id=\"T_c459e_level0_row0\" class=\"row_heading level0 row0\" >0</th>\n",
       "      <td id=\"T_c459e_row0_col0\" class=\"data row0 col0\" >Session id</td>\n",
       "      <td id=\"T_c459e_row0_col1\" class=\"data row0 col1\" >2023</td>\n",
       "    </tr>\n",
       "    <tr>\n",
       "      <th id=\"T_c459e_level0_row1\" class=\"row_heading level0 row1\" >1</th>\n",
       "      <td id=\"T_c459e_row1_col0\" class=\"data row1 col0\" >Target</td>\n",
       "      <td id=\"T_c459e_row1_col1\" class=\"data row1 col1\" >price</td>\n",
       "    </tr>\n",
       "    <tr>\n",
       "      <th id=\"T_c459e_level0_row2\" class=\"row_heading level0 row2\" >2</th>\n",
       "      <td id=\"T_c459e_row2_col0\" class=\"data row2 col0\" >Target type</td>\n",
       "      <td id=\"T_c459e_row2_col1\" class=\"data row2 col1\" >Regression</td>\n",
       "    </tr>\n",
       "    <tr>\n",
       "      <th id=\"T_c459e_level0_row3\" class=\"row_heading level0 row3\" >3</th>\n",
       "      <td id=\"T_c459e_row3_col0\" class=\"data row3 col0\" >Original data shape</td>\n",
       "      <td id=\"T_c459e_row3_col1\" class=\"data row3 col1\" >(14000, 6)</td>\n",
       "    </tr>\n",
       "    <tr>\n",
       "      <th id=\"T_c459e_level0_row4\" class=\"row_heading level0 row4\" >4</th>\n",
       "      <td id=\"T_c459e_row4_col0\" class=\"data row4 col0\" >Transformed data shape</td>\n",
       "      <td id=\"T_c459e_row4_col1\" class=\"data row4 col1\" >(13510, 16)</td>\n",
       "    </tr>\n",
       "    <tr>\n",
       "      <th id=\"T_c459e_level0_row5\" class=\"row_heading level0 row5\" >5</th>\n",
       "      <td id=\"T_c459e_row5_col0\" class=\"data row5 col0\" >Transformed train set shape</td>\n",
       "      <td id=\"T_c459e_row5_col1\" class=\"data row5 col1\" >(9310, 16)</td>\n",
       "    </tr>\n",
       "    <tr>\n",
       "      <th id=\"T_c459e_level0_row6\" class=\"row_heading level0 row6\" >6</th>\n",
       "      <td id=\"T_c459e_row6_col0\" class=\"data row6 col0\" >Transformed test set shape</td>\n",
       "      <td id=\"T_c459e_row6_col1\" class=\"data row6 col1\" >(4200, 16)</td>\n",
       "    </tr>\n",
       "    <tr>\n",
       "      <th id=\"T_c459e_level0_row7\" class=\"row_heading level0 row7\" >7</th>\n",
       "      <td id=\"T_c459e_row7_col0\" class=\"data row7 col0\" >Numeric features</td>\n",
       "      <td id=\"T_c459e_row7_col1\" class=\"data row7 col1\" >3</td>\n",
       "    </tr>\n",
       "    <tr>\n",
       "      <th id=\"T_c459e_level0_row8\" class=\"row_heading level0 row8\" >8</th>\n",
       "      <td id=\"T_c459e_row8_col0\" class=\"data row8 col0\" >Categorical features</td>\n",
       "      <td id=\"T_c459e_row8_col1\" class=\"data row8 col1\" >2</td>\n",
       "    </tr>\n",
       "    <tr>\n",
       "      <th id=\"T_c459e_level0_row9\" class=\"row_heading level0 row9\" >9</th>\n",
       "      <td id=\"T_c459e_row9_col0\" class=\"data row9 col0\" >Preprocess</td>\n",
       "      <td id=\"T_c459e_row9_col1\" class=\"data row9 col1\" >True</td>\n",
       "    </tr>\n",
       "    <tr>\n",
       "      <th id=\"T_c459e_level0_row10\" class=\"row_heading level0 row10\" >10</th>\n",
       "      <td id=\"T_c459e_row10_col0\" class=\"data row10 col0\" >Imputation type</td>\n",
       "      <td id=\"T_c459e_row10_col1\" class=\"data row10 col1\" >simple</td>\n",
       "    </tr>\n",
       "    <tr>\n",
       "      <th id=\"T_c459e_level0_row11\" class=\"row_heading level0 row11\" >11</th>\n",
       "      <td id=\"T_c459e_row11_col0\" class=\"data row11 col0\" >Numeric imputation</td>\n",
       "      <td id=\"T_c459e_row11_col1\" class=\"data row11 col1\" >mean</td>\n",
       "    </tr>\n",
       "    <tr>\n",
       "      <th id=\"T_c459e_level0_row12\" class=\"row_heading level0 row12\" >12</th>\n",
       "      <td id=\"T_c459e_row12_col0\" class=\"data row12 col0\" >Categorical imputation</td>\n",
       "      <td id=\"T_c459e_row12_col1\" class=\"data row12 col1\" >mode</td>\n",
       "    </tr>\n",
       "    <tr>\n",
       "      <th id=\"T_c459e_level0_row13\" class=\"row_heading level0 row13\" >13</th>\n",
       "      <td id=\"T_c459e_row13_col0\" class=\"data row13 col0\" >Maximum one-hot encoding</td>\n",
       "      <td id=\"T_c459e_row13_col1\" class=\"data row13 col1\" >25</td>\n",
       "    </tr>\n",
       "    <tr>\n",
       "      <th id=\"T_c459e_level0_row14\" class=\"row_heading level0 row14\" >14</th>\n",
       "      <td id=\"T_c459e_row14_col0\" class=\"data row14 col0\" >Encoding method</td>\n",
       "      <td id=\"T_c459e_row14_col1\" class=\"data row14 col1\" >None</td>\n",
       "    </tr>\n",
       "    <tr>\n",
       "      <th id=\"T_c459e_level0_row15\" class=\"row_heading level0 row15\" >15</th>\n",
       "      <td id=\"T_c459e_row15_col0\" class=\"data row15 col0\" >Remove outliers</td>\n",
       "      <td id=\"T_c459e_row15_col1\" class=\"data row15 col1\" >True</td>\n",
       "    </tr>\n",
       "    <tr>\n",
       "      <th id=\"T_c459e_level0_row16\" class=\"row_heading level0 row16\" >16</th>\n",
       "      <td id=\"T_c459e_row16_col0\" class=\"data row16 col0\" >Outliers threshold</td>\n",
       "      <td id=\"T_c459e_row16_col1\" class=\"data row16 col1\" >0.050000</td>\n",
       "    </tr>\n",
       "    <tr>\n",
       "      <th id=\"T_c459e_level0_row17\" class=\"row_heading level0 row17\" >17</th>\n",
       "      <td id=\"T_c459e_row17_col0\" class=\"data row17 col0\" >Transform target</td>\n",
       "      <td id=\"T_c459e_row17_col1\" class=\"data row17 col1\" >True</td>\n",
       "    </tr>\n",
       "    <tr>\n",
       "      <th id=\"T_c459e_level0_row18\" class=\"row_heading level0 row18\" >18</th>\n",
       "      <td id=\"T_c459e_row18_col0\" class=\"data row18 col0\" >Transform target method</td>\n",
       "      <td id=\"T_c459e_row18_col1\" class=\"data row18 col1\" >yeo-johnson</td>\n",
       "    </tr>\n",
       "    <tr>\n",
       "      <th id=\"T_c459e_level0_row19\" class=\"row_heading level0 row19\" >19</th>\n",
       "      <td id=\"T_c459e_row19_col0\" class=\"data row19 col0\" >Fold Generator</td>\n",
       "      <td id=\"T_c459e_row19_col1\" class=\"data row19 col1\" >StratifiedKFold</td>\n",
       "    </tr>\n",
       "    <tr>\n",
       "      <th id=\"T_c459e_level0_row20\" class=\"row_heading level0 row20\" >20</th>\n",
       "      <td id=\"T_c459e_row20_col0\" class=\"data row20 col0\" >Fold Number</td>\n",
       "      <td id=\"T_c459e_row20_col1\" class=\"data row20 col1\" >5</td>\n",
       "    </tr>\n",
       "    <tr>\n",
       "      <th id=\"T_c459e_level0_row21\" class=\"row_heading level0 row21\" >21</th>\n",
       "      <td id=\"T_c459e_row21_col0\" class=\"data row21 col0\" >CPU Jobs</td>\n",
       "      <td id=\"T_c459e_row21_col1\" class=\"data row21 col1\" >-1</td>\n",
       "    </tr>\n",
       "    <tr>\n",
       "      <th id=\"T_c459e_level0_row22\" class=\"row_heading level0 row22\" >22</th>\n",
       "      <td id=\"T_c459e_row22_col0\" class=\"data row22 col0\" >Use GPU</td>\n",
       "      <td id=\"T_c459e_row22_col1\" class=\"data row22 col1\" >True</td>\n",
       "    </tr>\n",
       "    <tr>\n",
       "      <th id=\"T_c459e_level0_row23\" class=\"row_heading level0 row23\" >23</th>\n",
       "      <td id=\"T_c459e_row23_col0\" class=\"data row23 col0\" >Log Experiment</td>\n",
       "      <td id=\"T_c459e_row23_col1\" class=\"data row23 col1\" >False</td>\n",
       "    </tr>\n",
       "    <tr>\n",
       "      <th id=\"T_c459e_level0_row24\" class=\"row_heading level0 row24\" >24</th>\n",
       "      <td id=\"T_c459e_row24_col0\" class=\"data row24 col0\" >Experiment Name</td>\n",
       "      <td id=\"T_c459e_row24_col1\" class=\"data row24 col1\" >reg-default-name</td>\n",
       "    </tr>\n",
       "    <tr>\n",
       "      <th id=\"T_c459e_level0_row25\" class=\"row_heading level0 row25\" >25</th>\n",
       "      <td id=\"T_c459e_row25_col0\" class=\"data row25 col0\" >USI</td>\n",
       "      <td id=\"T_c459e_row25_col1\" class=\"data row25 col1\" >2d48</td>\n",
       "    </tr>\n",
       "  </tbody>\n",
       "</table>\n"
      ],
      "text/plain": [
       "<pandas.io.formats.style.Styler at 0x17412fe5040>"
      ]
     },
     "metadata": {},
     "output_type": "display_data"
    },
    {
     "data": {
      "text/plain": [
       "<pycaret.regression.oop.RegressionExperiment at 0x1740f77e640>"
      ]
     },
     "execution_count": 29,
     "metadata": {},
     "output_type": "execute_result"
    }
   ],
   "source": [
    "baseline_model = RegressionExperiment()\n",
    "# # initialize setup\n",
    "baseline_model.setup( data = train, \n",
    "                           target = 'price',\n",
    "                           session_id=2023,\n",
    "                           fold_strategy = 'stratifiedkfold', # shows worse on validation on this dataset  \n",
    "                           remove_outliers=True, \n",
    "                           transform_target = True,\n",
    "                           normalize_method='minmax',                \n",
    "                           # feature_selection = True ,\n",
    "                           # n_features_to_select = 0.7,\n",
    "                           # feature_selection_method='univariate', # classic univariate\n",
    "                           # feature_selection_estimator = 'rf',                         \n",
    "                           fold = 5,                        \n",
    "                           use_gpu=True,\n",
    "                        #    log_experiment= 'dagshub',\n",
    "                        #    log_data=True,\n",
    "                        #    log_plots=True,\n",
    "                        #    experiment_name ='DNS-Hackathon-2023'\n",
    "                           )"
   ]
  },
  {
   "cell_type": "code",
   "execution_count": 30,
   "metadata": {},
   "outputs": [
    {
     "data": {
      "text/html": [],
      "text/plain": [
       "<IPython.core.display.HTML object>"
      ]
     },
     "metadata": {},
     "output_type": "display_data"
    },
    {
     "data": {
      "text/html": [],
      "text/plain": [
       "<IPython.core.display.HTML object>"
      ]
     },
     "metadata": {},
     "output_type": "display_data"
    },
    {
     "data": {
      "application/vnd.jupyter.widget-view+json": {
       "model_id": "c4e57920470e4438a9210b706adedeeb",
       "version_major": 2,
       "version_minor": 0
      },
      "text/plain": [
       "Processing:   0%|          | 0/9 [00:00<?, ?it/s]"
      ]
     },
     "metadata": {},
     "output_type": "display_data"
    }
   ],
   "source": [
    "best_models= baseline_model.compare_models(   n_select = 1,\n",
    "                                                    fold =5,\n",
    "                                                    sort=\"RMSE\", \n",
    "                                                    # turbo = True,\n",
    "                                                    include=[\"lightgbm\"]\n",
    "                                                )#include=[\"lightgbm\"]"
   ]
  },
  {
   "cell_type": "code",
   "execution_count": 28,
   "metadata": {},
   "outputs": [
    {
     "ename": "AttributeError",
     "evalue": "'list' object has no attribute 'get_metrics'",
     "output_type": "error",
     "traceback": [
      "\u001b[1;31m---------------------------------------------------------------------------\u001b[0m",
      "\u001b[1;31mAttributeError\u001b[0m                            Traceback (most recent call last)",
      "\u001b[1;32mc:\\Users\\OLUWASEYIGBADAMOSI\\Documents\\GitHub\\DNS-Hackathon-2023\\notebook\\Model-Traninig.ipynb Cell 22\u001b[0m in \u001b[0;36m<cell line: 1>\u001b[1;34m()\u001b[0m\n\u001b[1;32m----> <a href='vscode-notebook-cell:/c%3A/Users/OLUWASEYIGBADAMOSI/Documents/GitHub/DNS-Hackathon-2023/notebook/Model-Traninig.ipynb#X43sZmlsZQ%3D%3D?line=0'>1</a>\u001b[0m best_models\u001b[39m.\u001b[39;49mget_metrics()\n",
      "\u001b[1;31mAttributeError\u001b[0m: 'list' object has no attribute 'get_metrics'"
     ]
    }
   ],
   "source": [
    "best_models.get_metrics()"
   ]
  },
  {
   "cell_type": "code",
   "execution_count": null,
   "metadata": {},
   "outputs": [],
   "source": []
  }
 ],
 "metadata": {
  "kernelspec": {
   "display_name": "apidev",
   "language": "python",
   "name": "python3"
  },
  "language_info": {
   "codemirror_mode": {
    "name": "ipython",
    "version": 3
   },
   "file_extension": ".py",
   "mimetype": "text/x-python",
   "name": "python",
   "nbconvert_exporter": "python",
   "pygments_lexer": "ipython3",
   "version": "3.8.13"
  },
  "orig_nbformat": 4
 },
 "nbformat": 4,
 "nbformat_minor": 2
}
